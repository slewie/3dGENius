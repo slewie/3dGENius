{
 "cells": [
  {
   "cell_type": "code",
   "execution_count": 1,
   "id": "7f97efee1ca996e1",
   "metadata": {
    "ExecuteTime": {
     "end_time": "2023-11-26T11:27:06.498740300Z",
     "start_time": "2023-11-26T11:27:06.474674200Z"
    },
    "collapsed": false
   },
   "outputs": [],
   "source": [
    "import sys\n",
    "sys.path.append('../')\n",
    "import trimesh\n",
    "import networkx as nx\n",
    "from models.gan_model import *\n",
    "\n",
    "from tqdm import tqdm\n",
    "from torch.utils.data import Dataset\n",
    "from pathlib import Path"
   ]
  },
  {
   "cell_type": "code",
   "execution_count": 2,
   "id": "7665876953350eb5",
   "metadata": {
    "ExecuteTime": {
     "end_time": "2023-11-26T11:28:47.279090900Z",
     "start_time": "2023-11-26T11:28:47.221490300Z"
    },
    "collapsed": false
   },
   "outputs": [],
   "source": [
    "class STLDataset(Dataset):\n",
    "    def __init__(self, root_path, tensor_size):\n",
    "        self.stl_path = root_path\n",
    "        self.stl_list = sorted(self._get_filenames(self.stl_path))\n",
    "        self.tensor_size = tensor_size\n",
    "\n",
    "    def __getitem__(self, idx):\n",
    "        mesh = trimesh.load_mesh(self.stl_list[idx])\n",
    "        try:\n",
    "            adj = torch.from_numpy(\n",
    "                nx.adjacency_matrix(trimesh.graph.vertex_adjacency_graph(mesh)\n",
    "                                  ).toarray()).float()\n",
    "            \n",
    "            vertices_coords = self.fix_size_coords(torch.from_numpy(mesh.vertices), tensor_size=self.tensor_size)\n",
    "            adj = self.fix_size_adj(adj, tensor_size=self.tensor_size)\n",
    "            return adj, vertices_coords\n",
    "        except:\n",
    "            print(self.stl_list[idx])\n",
    "\n",
    "    def __len__(self):\n",
    "        return len(self.stl_list)\n",
    "\n",
    "    @staticmethod\n",
    "    def _get_filenames(path):\n",
    "        return [f for f in path.iterdir() if f.is_file()]\n",
    "\n",
    "    @staticmethod\n",
    "    def fix_size_adj(input_tensor, tensor_size):\n",
    "        if input_tensor.shape[0] < tensor_size:\n",
    "            zeros = torch.zeros(input_tensor.shape[0], tensor_size - input_tensor.shape[0])\n",
    "            tensor = torch.cat([input_tensor, zeros], dim=1)\n",
    "\n",
    "            zeros = torch.zeros(tensor_size - input_tensor.shape[0], tensor_size)\n",
    "            tensor = torch.cat([tensor, zeros], dim=0)\n",
    "            return tensor\n",
    "        elif input_tensor.shape[0] > tensor_size:\n",
    "            return input_tensor[:tensor_size, :tensor_size]\n",
    "        else:\n",
    "            return input_tensor\n",
    "\n",
    "    @staticmethod\n",
    "    def fix_size_coords(input_tensor, tensor_size):\n",
    "        if input_tensor.shape[0] < tensor_size:\n",
    "            zeros = torch.zeros(tensor_size - input_tensor.shape[0], input_tensor.shape[1])\n",
    "            tensor = torch.cat([input_tensor, zeros], dim=0)\n",
    "\n",
    "            return tensor\n",
    "        elif input_tensor.shape[0] > tensor_size:\n",
    "            return input_tensor[:tensor_size]\n",
    "        else:\n",
    "            return input_tensor"
   ]
  },
  {
   "cell_type": "code",
   "execution_count": 3,
   "id": "fc11dd01f3574c45",
   "metadata": {
    "ExecuteTime": {
     "end_time": "2023-11-26T11:31:11.002256700Z",
     "start_time": "2023-11-26T11:31:10.758252300Z"
    },
    "collapsed": false
   },
   "outputs": [],
   "source": [
    "input_dir = \"../data/Thingi10K/models\"\n",
    "NUM_VERTEX = 60\n",
    "\n",
    "dataset = STLDataset(Path(input_dir), tensor_size=NUM_VERTEX)"
   ]
  },
  {
   "cell_type": "code",
   "execution_count": 4,
   "id": "905edcb64c38f46",
   "metadata": {
    "ExecuteTime": {
     "end_time": "2023-11-26T11:31:11.075582100Z",
     "start_time": "2023-11-26T11:31:11.058883300Z"
    },
    "collapsed": false
   },
   "outputs": [],
   "source": [
    "batch_size = 512\n",
    "z_size = 100\n",
    "data_loader = torch.utils.data.DataLoader(\n",
    "    dataset, batch_size=batch_size, shuffle=True\n",
    ")"
   ]
  },
  {
   "cell_type": "code",
   "execution_count": 5,
   "id": "b8f4995a81618e22",
   "metadata": {
    "ExecuteTime": {
     "end_time": "2023-11-26T11:31:13.155649800Z",
     "start_time": "2023-11-26T11:31:13.019843100Z"
    },
    "collapsed": false
   },
   "outputs": [],
   "source": [
    "device = 'cuda'\n",
    "adj_gan = GraphGAN(num_vertex=NUM_VERTEX, lr=1e-4, device=device)"
   ]
  },
  {
   "cell_type": "code",
   "execution_count": 6,
   "id": "61f499705434ec0c",
   "metadata": {
    "ExecuteTime": {
     "end_time": "2023-11-26T11:31:13.789222400Z",
     "start_time": "2023-11-26T11:31:13.766756500Z"
    },
    "collapsed": false
   },
   "outputs": [],
   "source": [
    "def train(model, dataloader, num_epochs=10):\n",
    "    bar = tqdm(range(num_epochs))\n",
    "    for epoch in bar:\n",
    "        g_l = 0\n",
    "        d_l = 0\n",
    "        for batch in dataloader:\n",
    "            adj, _ = batch\n",
    "            image_size = adj.size(0)\n",
    "\n",
    "            gl, dl = model.forward(adj.to(device), image_size)\n",
    "            g_l += gl\n",
    "            d_l += dl\n",
    "        bar.set_postfix_str(f\"Epoch: {epoch + 1}/{num_epochs}\\td_loss: {d_l / len(dataloader)}\\tg_loss: {g_l / len(dataloader)}\")"
   ]
  },
  {
   "cell_type": "code",
   "execution_count": 7,
   "id": "dc4d761900a1d111",
   "metadata": {
    "ExecuteTime": {
     "end_time": "2023-11-26T11:33:00.235976900Z",
     "start_time": "2023-11-26T11:31:14.435246100Z"
    },
    "collapsed": false
   },
   "outputs": [
    {
     "name": "stderr",
     "output_type": "stream",
     "text": [
      "100%|██████████| 100/100 [1:35:53<00:00, 57.53s/it, Epoch: 100/100\td_loss: 0.9326284130414327\tg_loss: 2.174004832903544]\n"
     ]
    }
   ],
   "source": [
    "train(adj_gan, data_loader, num_epochs=100)"
   ]
  },
  {
   "cell_type": "code",
   "execution_count": 8,
   "id": "a3457f616434f14f",
   "metadata": {
    "ExecuteTime": {
     "end_time": "2023-10-30T20:19:53.718519200Z",
     "start_time": "2023-10-30T20:19:53.711913500Z"
    },
    "collapsed": false
   },
   "outputs": [],
   "source": [
    "graph_output = adj_gan.generate_adj(return_symmetric=True)\n",
    "graph_output = graph_output.cpu().detach().numpy()"
   ]
  },
  {
   "cell_type": "code",
   "execution_count": 9,
   "id": "1ee2e139c459702f",
   "metadata": {
    "ExecuteTime": {
     "end_time": "2023-10-30T20:19:53.850097700Z",
     "start_time": "2023-10-30T20:19:53.717497700Z"
    },
    "collapsed": false
   },
   "outputs": [],
   "source": [
    "G = nx.from_numpy_array(graph_output, create_using=nx.Graph())"
   ]
  },
  {
   "cell_type": "code",
   "execution_count": 10,
   "id": "bbb7b67de52916e4",
   "metadata": {
    "ExecuteTime": {
     "end_time": "2023-10-30T20:19:54.056783100Z",
     "start_time": "2023-10-30T20:19:53.851098600Z"
    },
    "collapsed": false
   },
   "outputs": [
    {
     "data": {
      "image/png": "[encoded data removed]",
      "text/plain": [
       "<Figure size 640x480 with 1 Axes>"
      ]
     },
     "metadata": {},
     "output_type": "display_data"
    }
   ],
   "source": [
    "nx.draw(G)"
   ]
  },
  {
   "cell_type": "code",
   "execution_count": 11,
   "id": "fe0da485e143a5b0",
   "metadata": {
    "ExecuteTime": {
     "end_time": "2023-10-30T20:19:54.056783100Z",
     "start_time": "2023-10-30T20:19:54.055766600Z"
    },
    "collapsed": false
   },
   "outputs": [],
   "source": [
    "torch.save(adj_gan.state_dict(), '../models/weigths/adj_gan_100_60')"
   ]
  },
  {
   "cell_type": "code",
   "execution_count": null,
   "metadata": {},
   "outputs": [],
   "source": [],
   "id": "584334ac6ec9a54e"
  }
 ],
 "metadata": {
  "kernelspec": {
   "display_name": "Python 3",
   "language": "python",
   "name": "python3"
  },
  "language_info": {
   "codemirror_mode": {
    "name": "ipython",
    "version": 3
   },
   "file_extension": ".py",
   "mimetype": "text/x-python",
   "name": "python",
   "nbconvert_exporter": "python",
   "pygments_lexer": "ipython3",
   "version": "3.11.5"
  }
 },
 "nbformat": 4,
 "nbformat_minor": 5
}
