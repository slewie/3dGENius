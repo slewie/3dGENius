{
 "cells": [
  {
   "cell_type": "code",
   "execution_count": 1,
   "metadata": {},
   "outputs": [],
   "source": [
    "import sys\n",
    "sys.path.append('../')\n",
    "import trimesh\n",
    "import networkx as nx\n",
    "from models.gan_model import *\n",
    "from models.networks import *\n",
    "\n",
    "from tqdm import tqdm\n",
    "from torch.utils.data import Dataset\n",
    "from pathlib import Path"
   ]
  },
  {
   "cell_type": "code",
   "execution_count": 2,
   "metadata": {},
   "outputs": [],
   "source": [
    "class STLDataset(Dataset):\n",
    "    def __init__(self, root_path, tensor_size):\n",
    "        self.stl_path = root_path\n",
    "        self.stl_list = sorted(self._get_filenames(self.stl_path))\n",
    "        self.tensor_size = tensor_size\n",
    "\n",
    "    def __getitem__(self, idx):\n",
    "        mesh = trimesh.load_mesh(self.stl_list[idx])\n",
    "        try:\n",
    "            adj = torch.from_numpy(\n",
    "                nx.adjacency_matrix(trimesh.graph.vertex_adjacency_graph(mesh)\n",
    "                                  ).toarray()).float()\n",
    "            \n",
    "            vertices_coords = self.fix_size_coords(torch.from_numpy(mesh.vertices), tensor_size=self.tensor_size)\n",
    "            adj = self.fix_size_adj(adj, tensor_size=self.tensor_size)\n",
    "            return adj, vertices_coords\n",
    "        except:\n",
    "            print(self.stl_list[idx])\n",
    "\n",
    "    def __len__(self):\n",
    "        return len(self.stl_list)\n",
    "\n",
    "    @staticmethod\n",
    "    def _get_filenames(path):\n",
    "        return [f for f in path.iterdir() if f.is_file()]\n",
    "\n",
    "    @staticmethod\n",
    "    def fix_size_adj(input_tensor, tensor_size):\n",
    "        if input_tensor.shape[0] < tensor_size:\n",
    "            zeros = torch.zeros(input_tensor.shape[0], tensor_size - input_tensor.shape[0])\n",
    "            tensor = torch.cat([input_tensor, zeros], dim=1)\n",
    "\n",
    "            zeros = torch.zeros(tensor_size - input_tensor.shape[0], tensor_size)\n",
    "            tensor = torch.cat([tensor, zeros], dim=0)\n",
    "            return tensor\n",
    "        elif input_tensor.shape[0] > tensor_size:\n",
    "            return input_tensor[:tensor_size, :tensor_size]\n",
    "        else:\n",
    "            return input_tensor\n",
    "\n",
    "    @staticmethod\n",
    "    def fix_size_coords(input_tensor, tensor_size):\n",
    "        if input_tensor.shape[0] < tensor_size:\n",
    "            zeros = torch.zeros(tensor_size - input_tensor.shape[0], input_tensor.shape[1])\n",
    "            tensor = torch.cat([input_tensor, zeros], dim=0)\n",
    "\n",
    "            return tensor\n",
    "        elif input_tensor.shape[0] > tensor_size:\n",
    "            return input_tensor[:tensor_size]\n",
    "        else:\n",
    "            return input_tensor"
   ]
  },
  {
   "cell_type": "code",
   "execution_count": 3,
   "metadata": {},
   "outputs": [],
   "source": [
    "input_dir = \"../data/Thingi10K/models\"\n",
    "NUM_VERTEX = 60\n",
    "\n",
    "dataset = STLDataset(Path(input_dir), tensor_size=NUM_VERTEX)"
   ]
  },
  {
   "cell_type": "code",
   "execution_count": 4,
   "metadata": {},
   "outputs": [],
   "source": [
    "batch_size = 512\n",
    "z_size = 100\n",
    "data_loader = torch.utils.data.DataLoader(\n",
    "    dataset, batch_size=batch_size, shuffle=True\n",
    ")"
   ]
  },
  {
   "cell_type": "code",
   "execution_count": 5,
   "metadata": {},
   "outputs": [],
   "source": [
    "device = 'cuda'\n",
    "feature_gan = GraphGAN(num_vertex=NUM_VERTEX, generator=FeatureGenerator(z_size, NUM_VERTEX, 3), discriminator=FeatureDiscriminator(NUM_VERTEX, 3), lr=1e-4, device=device)"
   ]
  },
  {
   "cell_type": "code",
   "execution_count": 6,
   "metadata": {},
   "outputs": [],
   "source": [
    "def train(model, dataloader, num_epochs=10):\n",
    "    bar = tqdm(range(num_epochs))\n",
    "    for epoch in bar:\n",
    "        g_l = 0\n",
    "        d_l = 0\n",
    "        for batch in dataloader:\n",
    "            _, features = batch\n",
    "            image_size = features.size(0)\n",
    "\n",
    "            gl, dl = model.forward(features.float().to(device), image_size)\n",
    "            g_l += gl\n",
    "            d_l += dl\n",
    "        bar.set_postfix_str(f\"Epoch: {epoch + 1}/{num_epochs}\\td_loss: {d_l / len(dataloader)}\\tg_loss: {g_l / len(dataloader)}\")"
   ]
  },
  {
   "cell_type": "code",
   "execution_count": 7,
   "metadata": {},
   "outputs": [
    {
     "name": "stderr",
     "output_type": "stream",
     "text": [
      "100%|██████████| 100/100 [1:34:48<00:00, 56.88s/it, Epoch: 100/100\td_loss: 0.4510732839504878\tg_loss: 1.486453890800476]\n"
     ]
    }
   ],
   "source": [
    "train(feature_gan, data_loader, num_epochs=100, print_every=10)"
   ]
  },
  {
   "cell_type": "code",
   "execution_count": 8,
   "metadata": {},
   "outputs": [],
   "source": [
    "torch.save(feature_gan.state_dict(), '../models/weigths/feature_gan_100_60')"
   ]
  },
  {
   "cell_type": "code",
   "execution_count": null,
   "metadata": {},
   "outputs": [],
   "source": []
  }
 ],
 "metadata": {
  "kernelspec": {
   "display_name": "myenv",
   "language": "python",
   "name": "python3"
  },
  "language_info": {
   "codemirror_mode": {
    "name": "ipython",
    "version": 3
   },
   "file_extension": ".py",
   "mimetype": "text/x-python",
   "name": "python",
   "nbconvert_exporter": "python",
   "pygments_lexer": "ipython3",
   "version": "3.11.5"
  }
 },
 "nbformat": 4,
 "nbformat_minor": 2
}
