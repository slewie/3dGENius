{
 "cells": [
  {
   "cell_type": "markdown",
   "id": "60649fb89e464e1b",
   "metadata": {
    "collapsed": false
   },
   "source": [
    "# Getting and clearing dataset\n",
    "\n",
    "For the dataset we propose to use [Thingi10K dataset](https://ten-thousand-models.appspot.com/). But the initial data consists of complicated 3D models (45% with self-intersections, 26% with multiple components, etc.). At the beginning I propose to get as simple 3D figures as possible."
   ]
  },
  {
   "cell_type": "code",
   "execution_count": 1,
   "id": "initial_id",
   "metadata": {
    "ExecuteTime": {
     "end_time": "2023-11-14T16:53:38.079579200Z",
     "start_time": "2023-11-14T16:53:37.579494300Z"
    },
    "collapsed": true
   },
   "outputs": [],
   "source": [
    "import pandas as pd\n",
    "import numpy as np"
   ]
  },
  {
   "cell_type": "code",
   "execution_count": 2,
   "id": "b655a5e72f5fb2d5",
   "metadata": {
    "ExecuteTime": {
     "end_time": "2023-11-14T17:01:48.468641800Z",
     "start_time": "2023-11-14T17:01:48.389013900Z"
    },
    "collapsed": false
   },
   "outputs": [],
   "source": [
    "# Load data\n",
    "input_data = pd.read_csv('../data/Thingi10K/metadata/Thingi10K Summary - Input Summary.csv')\n",
    "geometry_data = pd.read_csv('../data/Thingi10K/metadata/Thingi10K Summary - Geometry Data.csv')"
   ]
  },
  {
   "cell_type": "code",
   "execution_count": 3,
   "id": "5adbf5f0848a72d5",
   "metadata": {
    "ExecuteTime": {
     "end_time": "2023-11-14T17:01:48.560082800Z",
     "start_time": "2023-11-14T17:01:48.548321700Z"
    },
    "collapsed": false
   },
   "outputs": [
    {
     "name": "stdout",
     "output_type": "stream",
     "text": [
      "(10000, 11)\n",
      "(9997, 49)\n"
     ]
    }
   ],
   "source": [
    "print(input_data.shape)\n",
    "print(geometry_data.shape)"
   ]
  },
  {
   "cell_type": "code",
   "execution_count": 4,
   "id": "46a8522c8b3142b9",
   "metadata": {
    "ExecuteTime": {
     "end_time": "2023-11-14T17:01:48.983550400Z",
     "start_time": "2023-11-14T17:01:48.965156600Z"
    },
    "collapsed": false
   },
   "outputs": [],
   "source": [
    "# rename columns in geometry_data\n",
    "geometry_data = geometry_data.rename(columns={'file_id': 'ID'})"
   ]
  },
  {
   "cell_type": "code",
   "execution_count": 5,
   "id": "edfea8eb7278a0c5",
   "metadata": {
    "ExecuteTime": {
     "end_time": "2023-11-14T17:02:44.778685200Z",
     "start_time": "2023-11-14T17:02:44.767603300Z"
    },
    "collapsed": false
   },
   "outputs": [],
   "source": [
    "# merge data\n",
    "data = input_data.merge(geometry_data, on='ID')"
   ]
  },
  {
   "cell_type": "code",
   "execution_count": 6,
   "id": "95e1015cfb7820cd",
   "metadata": {
    "ExecuteTime": {
     "end_time": "2023-11-14T17:02:45.030469200Z",
     "start_time": "2023-11-14T17:02:45.005250700Z"
    },
    "collapsed": false
   },
   "outputs": [
    {
     "data": {
      "text/html": [
       "<div>\n",
       "<style scoped>\n",
       "    .dataframe tbody tr th:only-of-type {\n",
       "        vertical-align: middle;\n",
       "    }\n",
       "\n",
       "    .dataframe tbody tr th {\n",
       "        vertical-align: top;\n",
       "    }\n",
       "\n",
       "    .dataframe thead th {\n",
       "        text-align: right;\n",
       "    }\n",
       "</style>\n",
       "<table border=\"1\" class=\"dataframe\">\n",
       "  <thead>\n",
       "    <tr style=\"text-align: right;\">\n",
       "      <th></th>\n",
       "      <th>ID</th>\n",
       "      <th>Thing ID</th>\n",
       "      <th>License</th>\n",
       "      <th>Link</th>\n",
       "      <th>No duplicated faces</th>\n",
       "      <th>Closed</th>\n",
       "      <th>Edge manifold</th>\n",
       "      <th>No degenerate faces</th>\n",
       "      <th>Vertex manifold</th>\n",
       "      <th>Single Component</th>\n",
       "      <th>...</th>\n",
       "      <th>p75_aspect_ratio</th>\n",
       "      <th>p90_aspect_ratio</th>\n",
       "      <th>p95_aspect_ratio</th>\n",
       "      <th>max_aspect_ratio</th>\n",
       "      <th>PWN_y</th>\n",
       "      <th>solid</th>\n",
       "      <th>ave_area</th>\n",
       "      <th>ave_valance</th>\n",
       "      <th>ave_dihedral_angle</th>\n",
       "      <th>ave_aspect_ratio</th>\n",
       "    </tr>\n",
       "  </thead>\n",
       "  <tbody>\n",
       "    <tr>\n",
       "      <th>0</th>\n",
       "      <td>32770</td>\n",
       "      <td>10367</td>\n",
       "      <td>Creative Commons - Attribution - Share Alike</td>\n",
       "      <td>https://thingiverse-production-new.s3.amazonaw...</td>\n",
       "      <td>True</td>\n",
       "      <td>True</td>\n",
       "      <td>True</td>\n",
       "      <td>True</td>\n",
       "      <td>True</td>\n",
       "      <td>True</td>\n",
       "      <td>...</td>\n",
       "      <td>1.763788</td>\n",
       "      <td>2.518721</td>\n",
       "      <td>3.410810</td>\n",
       "      <td>1.544436e+07</td>\n",
       "      <td>1.0</td>\n",
       "      <td>1</td>\n",
       "      <td>0.233377</td>\n",
       "      <td>5.999367</td>\n",
       "      <td>0.087100</td>\n",
       "      <td>822.276536</td>\n",
       "    </tr>\n",
       "    <tr>\n",
       "      <th>1</th>\n",
       "      <td>34783</td>\n",
       "      <td>10955</td>\n",
       "      <td>Creative Commons - Attribution - Share Alike</td>\n",
       "      <td>https://thingiverse-production-new.s3.amazonaw...</td>\n",
       "      <td>True</td>\n",
       "      <td>True</td>\n",
       "      <td>True</td>\n",
       "      <td>True</td>\n",
       "      <td>True</td>\n",
       "      <td>True</td>\n",
       "      <td>...</td>\n",
       "      <td>15.362083</td>\n",
       "      <td>52.434491</td>\n",
       "      <td>146.752893</td>\n",
       "      <td>2.020764e+07</td>\n",
       "      <td>1.0</td>\n",
       "      <td>0</td>\n",
       "      <td>0.172308</td>\n",
       "      <td>6.000000</td>\n",
       "      <td>0.157806</td>\n",
       "      <td>1623.715832</td>\n",
       "    </tr>\n",
       "    <tr>\n",
       "      <th>2</th>\n",
       "      <td>34784</td>\n",
       "      <td>10955</td>\n",
       "      <td>Creative Commons - Attribution - Share Alike</td>\n",
       "      <td>https://thingiverse-production-new.s3.amazonaw...</td>\n",
       "      <td>True</td>\n",
       "      <td>True</td>\n",
       "      <td>True</td>\n",
       "      <td>True</td>\n",
       "      <td>True</td>\n",
       "      <td>True</td>\n",
       "      <td>...</td>\n",
       "      <td>14.709113</td>\n",
       "      <td>54.730347</td>\n",
       "      <td>156.206824</td>\n",
       "      <td>6.803872e+06</td>\n",
       "      <td>1.0</td>\n",
       "      <td>0</td>\n",
       "      <td>0.172130</td>\n",
       "      <td>6.000000</td>\n",
       "      <td>0.170783</td>\n",
       "      <td>788.200103</td>\n",
       "    </tr>\n",
       "    <tr>\n",
       "      <th>3</th>\n",
       "      <td>34785</td>\n",
       "      <td>10955</td>\n",
       "      <td>Creative Commons - Attribution - Share Alike</td>\n",
       "      <td>https://thingiverse-production-new.s3.amazonaw...</td>\n",
       "      <td>True</td>\n",
       "      <td>True</td>\n",
       "      <td>True</td>\n",
       "      <td>True</td>\n",
       "      <td>True</td>\n",
       "      <td>True</td>\n",
       "      <td>...</td>\n",
       "      <td>2.741170</td>\n",
       "      <td>7.026847</td>\n",
       "      <td>12.575539</td>\n",
       "      <td>1.467454e+05</td>\n",
       "      <td>1.0</td>\n",
       "      <td>1</td>\n",
       "      <td>0.171683</td>\n",
       "      <td>6.000000</td>\n",
       "      <td>0.070198</td>\n",
       "      <td>28.456043</td>\n",
       "    </tr>\n",
       "    <tr>\n",
       "      <th>4</th>\n",
       "      <td>35269</td>\n",
       "      <td>10367</td>\n",
       "      <td>Creative Commons - Attribution - Share Alike</td>\n",
       "      <td>https://thingiverse-production-new.s3.amazonaw...</td>\n",
       "      <td>True</td>\n",
       "      <td>True</td>\n",
       "      <td>True</td>\n",
       "      <td>True</td>\n",
       "      <td>True</td>\n",
       "      <td>True</td>\n",
       "      <td>...</td>\n",
       "      <td>1.759741</td>\n",
       "      <td>2.521702</td>\n",
       "      <td>3.494814</td>\n",
       "      <td>2.303255e+07</td>\n",
       "      <td>1.0</td>\n",
       "      <td>1</td>\n",
       "      <td>0.219888</td>\n",
       "      <td>5.999404</td>\n",
       "      <td>0.084723</td>\n",
       "      <td>1044.792582</td>\n",
       "    </tr>\n",
       "  </tbody>\n",
       "</table>\n",
       "<p>5 rows × 59 columns</p>\n",
       "</div>"
      ],
      "text/plain": [
       "      ID  Thing ID                                       License  \\\n",
       "0  32770     10367  Creative Commons - Attribution - Share Alike   \n",
       "1  34783     10955  Creative Commons - Attribution - Share Alike   \n",
       "2  34784     10955  Creative Commons - Attribution - Share Alike   \n",
       "3  34785     10955  Creative Commons - Attribution - Share Alike   \n",
       "4  35269     10367  Creative Commons - Attribution - Share Alike   \n",
       "\n",
       "                                                Link No duplicated faces  \\\n",
       "0  https://thingiverse-production-new.s3.amazonaw...                True   \n",
       "1  https://thingiverse-production-new.s3.amazonaw...                True   \n",
       "2  https://thingiverse-production-new.s3.amazonaw...                True   \n",
       "3  https://thingiverse-production-new.s3.amazonaw...                True   \n",
       "4  https://thingiverse-production-new.s3.amazonaw...                True   \n",
       "\n",
       "  Closed Edge manifold No degenerate faces Vertex manifold Single Component  \\\n",
       "0   True          True                True            True             True   \n",
       "1   True          True                True            True             True   \n",
       "2   True          True                True            True             True   \n",
       "3   True          True                True            True             True   \n",
       "4   True          True                True            True             True   \n",
       "\n",
       "   ... p75_aspect_ratio  p90_aspect_ratio  p95_aspect_ratio  max_aspect_ratio  \\\n",
       "0  ...         1.763788          2.518721          3.410810      1.544436e+07   \n",
       "1  ...        15.362083         52.434491        146.752893      2.020764e+07   \n",
       "2  ...        14.709113         54.730347        156.206824      6.803872e+06   \n",
       "3  ...         2.741170          7.026847         12.575539      1.467454e+05   \n",
       "4  ...         1.759741          2.521702          3.494814      2.303255e+07   \n",
       "\n",
       "   PWN_y  solid  ave_area  ave_valance  ave_dihedral_angle  ave_aspect_ratio  \n",
       "0    1.0      1  0.233377     5.999367            0.087100        822.276536  \n",
       "1    1.0      0  0.172308     6.000000            0.157806       1623.715832  \n",
       "2    1.0      0  0.172130     6.000000            0.170783        788.200103  \n",
       "3    1.0      1  0.171683     6.000000            0.070198         28.456043  \n",
       "4    1.0      1  0.219888     5.999404            0.084723       1044.792582  \n",
       "\n",
       "[5 rows x 59 columns]"
      ]
     },
     "execution_count": 6,
     "metadata": {},
     "output_type": "execute_result"
    }
   ],
   "source": [
    "data.head()"
   ]
  },
  {
   "cell_type": "code",
   "execution_count": 7,
   "id": "ee49c779e47d0172",
   "metadata": {
    "ExecuteTime": {
     "end_time": "2023-11-14T17:02:46.452561700Z",
     "start_time": "2023-11-14T17:02:46.446338300Z"
    },
    "collapsed": false
   },
   "outputs": [
    {
     "data": {
      "text/plain": [
       "(9997, 59)"
      ]
     },
     "execution_count": 7,
     "metadata": {},
     "output_type": "execute_result"
    }
   ],
   "source": [
    "data.shape"
   ]
  },
  {
   "cell_type": "markdown",
   "id": "2ff7ded31e5c8077",
   "metadata": {
    "collapsed": false
   },
   "source": [
    "# Data cleaning\n",
    "Data might contain some NaN values, not closed models, models with more than 1000 number of vertices, models with more than 1 number of components. We need to remove them."
   ]
  },
  {
   "cell_type": "code",
   "execution_count": 8,
   "id": "624701bb2d84184d",
   "metadata": {
    "ExecuteTime": {
     "end_time": "2023-11-14T17:04:50.383071900Z",
     "start_time": "2023-11-14T17:04:50.362407200Z"
    },
    "collapsed": false
   },
   "outputs": [
    {
     "data": {
      "text/plain": [
       "(2904, 59)"
      ]
     },
     "execution_count": 8,
     "metadata": {},
     "output_type": "execute_result"
    }
   ],
   "source": [
    "# remove rows with NaN\n",
    "data = data.dropna()\n",
    "\n",
    "# remove not closed models\n",
    "data = data[data['Closed'] != False]\n",
    "\n",
    "# remove models with more than 1000 number of vertices\n",
    "data = data[data['num_vertices'] <= 1000]\n",
    "\n",
    "# remove models with more than 1 number of components\n",
    "data = data[data['Single Component'] == True]\n",
    "\n",
    "data.shape"
   ]
  },
  {
   "cell_type": "code",
   "execution_count": 9,
   "id": "5edea4a68fec225e",
   "metadata": {
    "ExecuteTime": {
     "end_time": "2023-11-14T17:06:54.920376Z",
     "start_time": "2023-11-14T17:06:54.912334400Z"
    },
    "collapsed": false
   },
   "outputs": [
    {
     "data": {
      "text/html": [
       "<div>\n",
       "<style scoped>\n",
       "    .dataframe tbody tr th:only-of-type {\n",
       "        vertical-align: middle;\n",
       "    }\n",
       "\n",
       "    .dataframe tbody tr th {\n",
       "        vertical-align: top;\n",
       "    }\n",
       "\n",
       "    .dataframe thead th {\n",
       "        text-align: right;\n",
       "    }\n",
       "</style>\n",
       "<table border=\"1\" class=\"dataframe\">\n",
       "  <thead>\n",
       "    <tr style=\"text-align: right;\">\n",
       "      <th></th>\n",
       "      <th>ID</th>\n",
       "      <th>License</th>\n",
       "      <th>num_vertices</th>\n",
       "      <th>Link</th>\n",
       "    </tr>\n",
       "  </thead>\n",
       "  <tbody>\n",
       "    <tr>\n",
       "      <th>5</th>\n",
       "      <td>36069</td>\n",
       "      <td>Creative Commons - Attribution - Share Alike</td>\n",
       "      <td>82</td>\n",
       "      <td>https://thingiverse-production-new.s3.amazonaw...</td>\n",
       "    </tr>\n",
       "    <tr>\n",
       "      <th>7</th>\n",
       "      <td>36082</td>\n",
       "      <td>Creative Commons - Attribution - Share Alike</td>\n",
       "      <td>76</td>\n",
       "      <td>https://thingiverse-production-new.s3.amazonaw...</td>\n",
       "    </tr>\n",
       "    <tr>\n",
       "      <th>8</th>\n",
       "      <td>36086</td>\n",
       "      <td>Creative Commons - Attribution - Share Alike</td>\n",
       "      <td>292</td>\n",
       "      <td>https://thingiverse-production-new.s3.amazonaw...</td>\n",
       "    </tr>\n",
       "    <tr>\n",
       "      <th>10</th>\n",
       "      <td>36090</td>\n",
       "      <td>Creative Commons - Attribution - Share Alike</td>\n",
       "      <td>292</td>\n",
       "      <td>https://thingiverse-production-new.s3.amazonaw...</td>\n",
       "    </tr>\n",
       "    <tr>\n",
       "      <th>14</th>\n",
       "      <td>36372</td>\n",
       "      <td>Creative Commons - Attribution - Share Alike</td>\n",
       "      <td>76</td>\n",
       "      <td>https://thingiverse-production-new.s3.amazonaw...</td>\n",
       "    </tr>\n",
       "  </tbody>\n",
       "</table>\n",
       "</div>"
      ],
      "text/plain": [
       "       ID                                       License  num_vertices  \\\n",
       "5   36069  Creative Commons - Attribution - Share Alike            82   \n",
       "7   36082  Creative Commons - Attribution - Share Alike            76   \n",
       "8   36086  Creative Commons - Attribution - Share Alike           292   \n",
       "10  36090  Creative Commons - Attribution - Share Alike           292   \n",
       "14  36372  Creative Commons - Attribution - Share Alike            76   \n",
       "\n",
       "                                                 Link  \n",
       "5   https://thingiverse-production-new.s3.amazonaw...  \n",
       "7   https://thingiverse-production-new.s3.amazonaw...  \n",
       "8   https://thingiverse-production-new.s3.amazonaw...  \n",
       "10  https://thingiverse-production-new.s3.amazonaw...  \n",
       "14  https://thingiverse-production-new.s3.amazonaw...  "
      ]
     },
     "execution_count": 9,
     "metadata": {},
     "output_type": "execute_result"
    }
   ],
   "source": [
    "# we need only ID, License, number of vertices and link columns\n",
    "data_croppped = data[['ID', 'License', 'num_vertices', 'Link']]\n",
    "data_croppped.head()"
   ]
  },
  {
   "cell_type": "markdown",
   "id": "1fea3bb1ea5b19da",
   "metadata": {
    "collapsed": false
   },
   "source": [
    "# Downloading models"
   ]
  },
  {
   "cell_type": "code",
   "execution_count": 10,
   "id": "5d62c8aa7830c9bb",
   "metadata": {
    "ExecuteTime": {
     "end_time": "2023-11-14T17:11:46.759440900Z",
     "start_time": "2023-11-14T17:11:46.752428500Z"
    },
    "collapsed": false
   },
   "outputs": [],
   "source": [
    "# download models by the link and save them to the folder\n",
    "import urllib.request\n",
    "import os\n",
    "from tqdm import tqdm"
   ]
  },
  {
   "cell_type": "code",
   "execution_count": 11,
   "id": "f0cedc47ecbc04af",
   "metadata": {
    "ExecuteTime": {
     "end_time": "2023-11-14T17:11:57.105365Z",
     "start_time": "2023-11-14T17:11:49.117446100Z"
    },
    "collapsed": false
   },
   "outputs": [
    {
     "name": "stderr",
     "output_type": "stream",
     "text": [
      " 60%|█████▉    | 1729/2904 [30:23<27:10,  1.39s/it]  "
     ]
    }
   ],
   "source": [
    "PATH_TO_SAVE = \"../data/Thingi10K/models\"\n",
    "\n",
    "num_models = data_croppped.shape[0]\n",
    "# num_models = 5\n",
    "\n",
    "for i in tqdm(range(num_models)):\n",
    "    url = data_croppped.iloc[i]['Link']\n",
    "    try:\n",
    "        urllib.request.urlretrieve(url, os.path.join(PATH_TO_SAVE, str(i) + '.stl'))\n",
    "    except:\n",
    "        continue"
   ]
  },
  {
   "cell_type": "code",
   "execution_count": null,
   "metadata": {},
   "outputs": [],
   "source": []
  }
 ],
 "metadata": {
  "kernelspec": {
   "display_name": "Python 3",
   "language": "python",
   "name": "python3"
  },
  "language_info": {
   "codemirror_mode": {
    "name": "ipython",
    "version": 3
   },
   "file_extension": ".py",
   "mimetype": "text/x-python",
   "name": "python",
   "nbconvert_exporter": "python",
   "pygments_lexer": "ipython3",
   "version": "3.11.5"
  }
 },
 "nbformat": 4,
 "nbformat_minor": 5
}
