{
 "cells": [
  {
   "cell_type": "code",
   "execution_count": 1,
   "metadata": {},
   "outputs": [],
   "source": [
    "import sys\n",
    "sys.path.append('../')\n",
    "import trimesh\n",
    "import networkx as nx\n",
    "import torch\n",
    "from models.gan_model import *\n",
    "from models.networks import *\n",
    "\n",
    "from tqdm import tqdm\n",
    "from torch.utils.data import Dataset\n",
    "from pathlib import Path"
   ]
  },
  {
   "cell_type": "code",
   "execution_count": 2,
   "metadata": {},
   "outputs": [],
   "source": [
    "device = 'cuda'\n",
    "NUM_VERTEX = 40\n",
    "z_size = 100\n",
    "epochs = 100\n",
    "adj_gan = GraphGAN(num_vertex=NUM_VERTEX, lr=1e-4, device=device)\n",
    "feature_gan = GraphGAN(num_vertex=NUM_VERTEX, generator=FeatureGenerator(z_size, NUM_VERTEX, 3), discriminator=FeatureDiscriminator(NUM_VERTEX, 3), lr=1e-4, device=device)"
   ]
  },
  {
   "cell_type": "code",
   "execution_count": 53,
   "metadata": {},
   "outputs": [
    {
     "data": {
      "text/plain": [
       "<All keys matched successfully>"
      ]
     },
     "execution_count": 53,
     "metadata": {},
     "output_type": "execute_result"
    }
   ],
   "source": [
    "adj_gan.load_state_dict(torch.load(f'../models/weigths/adj_gan_{epochs}_{NUM_VERTEX}'))"
   ]
  },
  {
   "cell_type": "code",
   "execution_count": 54,
   "metadata": {},
   "outputs": [
    {
     "data": {
      "text/plain": [
       "<All keys matched successfully>"
      ]
     },
     "execution_count": 54,
     "metadata": {},
     "output_type": "execute_result"
    }
   ],
   "source": [
    "feature_gan.load_state_dict(torch.load(f'../models/weigths/feature_gan_{epochs}_{NUM_VERTEX}'))"
   ]
  },
  {
   "cell_type": "code",
   "execution_count": 3,
   "metadata": {},
   "outputs": [],
   "source": [
    "graph_output = adj_gan.generate_adj(return_symmetric=True)\n",
    "graph_output = graph_output.cpu().detach().numpy()"
   ]
  },
  {
   "cell_type": "code",
   "execution_count": 4,
   "metadata": {},
   "outputs": [],
   "source": [
    "feature_matrix = feature_gan.generate_feat().cpu().detach().numpy().squeeze(0)"
   ]
  },
  {
   "cell_type": "code",
   "execution_count": 5,
   "metadata": {},
   "outputs": [],
   "source": [
    "triangles = []\n",
    "for i in range(len(graph_output)):\n",
    "   for j in range(i+1, len(graph_output)):\n",
    "       if graph_output[i, j] == 1:\n",
    "           for k in range(j+1, len(graph_output)):\n",
    "               if graph_output[j, k] == 1 and graph_output[k, i] == 1:\n",
    "                  triangles.append([i, j, k])"
   ]
  },
  {
   "cell_type": "code",
   "execution_count": 62,
   "metadata": {},
   "outputs": [],
   "source": [
    "import trimesh\n",
    "import numpy as np\n",
    "\n",
    "# create faces\n",
    "faces = np.array(triangles)\n",
    "\n",
    "# create a trimesh\n",
    "mesh = trimesh.Trimesh(vertices=feature_matrix, faces=faces)\n",
    "mesh.export('40vertex-sheet-100epochs_2.stl');"
   ]
  },
  {
   "cell_type": "code",
   "execution_count": null,
   "metadata": {},
   "outputs": [],
   "source": []
  }
 ],
 "metadata": {
  "kernelspec": {
   "display_name": "myenv",
   "language": "python",
   "name": "python3"
  },
  "language_info": {
   "codemirror_mode": {
    "name": "ipython",
    "version": 3
   },
   "file_extension": ".py",
   "mimetype": "text/x-python",
   "name": "python",
   "nbconvert_exporter": "python",
   "pygments_lexer": "ipython3",
   "version": "3.11.5"
  }
 },
 "nbformat": 4,
 "nbformat_minor": 2
}
