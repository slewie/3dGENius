{
 "cells": [
  {
   "cell_type": "code",
   "execution_count": 24,
   "id": "initial_id",
   "metadata": {
    "collapsed": true,
    "ExecuteTime": {
     "end_time": "2023-10-28T11:02:11.353054600Z",
     "start_time": "2023-10-28T11:02:11.334051900Z"
    }
   },
   "outputs": [],
   "source": [
    "from models.gan_model import *\n",
    "import torch\n",
    "from torch_geometric.utils import to_dense_adj\n",
    "from torch_geometric.datasets import TUDataset\n",
    "from torch.utils.data import TensorDataset, DataLoader"
   ]
  },
  {
   "cell_type": "code",
   "execution_count": 25,
   "outputs": [
    {
     "name": "stdout",
     "output_type": "stream",
     "text": [
      "ENZYMES(600)\n"
     ]
    }
   ],
   "source": [
    "root = './enzymes'\n",
    "name = 'ENZYMES'\n",
    "\n",
    "# The ENZYMES dataset\n",
    "pyg_dataset = TUDataset(root, name)\n",
    "\n",
    "# You will find that there are 600 graphs in this dataset\n",
    "print(pyg_dataset)"
   ],
   "metadata": {
    "collapsed": false,
    "ExecuteTime": {
     "end_time": "2023-10-28T11:02:11.369627200Z",
     "start_time": "2023-10-28T11:02:11.339379700Z"
    }
   },
   "id": "c6fc1ad1d9c309e1"
  },
  {
   "cell_type": "code",
   "execution_count": 26,
   "outputs": [],
   "source": [
    "def fix_size(graph):\n",
    "    input_tensor = to_dense_adj(graph.edge_index)\n",
    "    if input_tensor.shape[1] != 42:\n",
    "        zeros = torch.zeros(1, input_tensor.shape[1], 42 - input_tensor.shape[1])\n",
    "        tensor = torch.cat([input_tensor, zeros], dim=2)\n",
    "\n",
    "        zeros = torch.zeros(1, 42 - input_tensor.shape[1], 42)\n",
    "        tensor = torch.cat([tensor, zeros], dim=1)\n",
    "        return tensor\n",
    "    else:\n",
    "        return input_tensor"
   ],
   "metadata": {
    "collapsed": false,
    "ExecuteTime": {
     "end_time": "2023-10-28T11:02:11.369627200Z",
     "start_time": "2023-10-28T11:02:11.349205200Z"
    }
   },
   "id": "2835886ccd9a4df6"
  },
  {
   "cell_type": "code",
   "execution_count": 27,
   "outputs": [],
   "source": [
    "graphs_relevance = [g for g in pyg_dataset if g.num_nodes in [38, 40, 42]]\n",
    "graphs = torch.zeros(71, 1, 42, 42)\n",
    "for i in range(len(graphs_relevance)):\n",
    "    graphs[i] = fix_size(graphs_relevance[i])"
   ],
   "metadata": {
    "collapsed": false,
    "ExecuteTime": {
     "end_time": "2023-10-28T11:02:11.444921400Z",
     "start_time": "2023-10-28T11:02:11.359583600Z"
    }
   },
   "id": "84ab775c1758c170"
  },
  {
   "cell_type": "code",
   "execution_count": 28,
   "outputs": [],
   "source": [
    "batch_size = 8\n",
    "graphs_dataset = TensorDataset(graphs)\n",
    "graphs_dataloader = DataLoader(graphs_dataset, batch_size)"
   ],
   "metadata": {
    "collapsed": false,
    "ExecuteTime": {
     "end_time": "2023-10-28T11:02:11.456032900Z",
     "start_time": "2023-10-28T11:02:11.447989800Z"
    }
   },
   "id": "9792edb2150c4391"
  },
  {
   "cell_type": "code",
   "execution_count": 29,
   "outputs": [],
   "source": [
    "lr=0.001\n",
    "beta1=0.9\n",
    "beta2=0.999"
   ],
   "metadata": {
    "collapsed": false,
    "ExecuteTime": {
     "end_time": "2023-10-28T11:02:11.458042700Z",
     "start_time": "2023-10-28T11:02:11.452757900Z"
    }
   },
   "id": "5d44a04fff1023d5"
  },
  {
   "cell_type": "code",
   "execution_count": 30,
   "outputs": [],
   "source": [
    "device = torch.device('cpu')\n",
    "\n",
    "def real_loss(D_out, smooth=False):\n",
    "    batch_size = D_out.size(0)\n",
    "    \n",
    "    # label smoothing\n",
    "    if smooth:\n",
    "        labels = torch.FloatTensor(batch_size).uniform_(0.9, 1).to(device)\n",
    "    else:\n",
    "        labels = torch.ones(batch_size)\n",
    "\n",
    "    labels = labels.to(device)\n",
    "    criterion = nn.BCELoss()\n",
    "    # calculate loss\n",
    "    loss = criterion(D_out.squeeze(), labels)\n",
    "    return loss\n",
    "\n",
    "def fake_loss(D_out):\n",
    "    batch_size = D_out.size(0)\n",
    "    labels = torch.FloatTensor(batch_size).uniform_(0, 0.1).to(device) # fake labels = 0\n",
    "    labels = labels.to(device)\n",
    "    criterion = nn.BCELoss()\n",
    "    # calculate loss\n",
    "    loss = criterion(D_out.squeeze(), labels)\n",
    "    return loss"
   ],
   "metadata": {
    "collapsed": false,
    "ExecuteTime": {
     "end_time": "2023-10-28T11:02:11.480963300Z",
     "start_time": "2023-10-28T11:02:11.463289900Z"
    }
   },
   "id": "ea0917e6f9f29470"
  },
  {
   "cell_type": "code",
   "execution_count": 31,
   "outputs": [],
   "source": [
    "# gan = GraphGAN(num_vertex=42, batch_size=batch_size)\n",
    "G = Generator(100, 42)\n",
    "D = Discriminator(42)\n",
    "optimizer_g = torch.optim.Adam(G.parameters(), lr=lr, betas=(beta1, beta2))\n",
    "optimizer_d = torch.optim.Adam(D.parameters(), lr=lr, betas=(beta1, beta2))"
   ],
   "metadata": {
    "collapsed": false,
    "ExecuteTime": {
     "end_time": "2023-10-28T11:02:11.522738300Z",
     "start_time": "2023-10-28T11:02:11.470083600Z"
    }
   },
   "id": "b8f4995a81618e22"
  },
  {
   "cell_type": "code",
   "execution_count": 32,
   "outputs": [],
   "source": [
    "def train(dataloader, num_epochs=10, print_every=1):\n",
    "    for epoch in range(num_epochs):\n",
    "        g_l = 0\n",
    "        d_l = 0\n",
    "        for batch in dataloader:\n",
    "            data = batch[0]\n",
    "\n",
    "            optimizer_d.zero_grad()\n",
    "            real_images = data.to(device)\n",
    "            D_real = D(real_images)\n",
    "            d_real_loss = real_loss(D_real)\n",
    "\n",
    "            z = torch.FloatTensor(batch_size, 100).uniform_(-1, 1).to(device)\n",
    "            fake_images = G(z)\n",
    "        \n",
    "            D_fake = D(fake_images)\n",
    "            d_fake_loss = fake_loss(D_fake)\n",
    "        \n",
    "            d_loss = d_real_loss + d_fake_loss\n",
    "            d_l += d_loss.item()\n",
    "            d_loss.backward()\n",
    "            optimizer_d.step()\n",
    "\n",
    "\n",
    "            optimizer_g.zero_grad()\n",
    "\n",
    "            z = torch.FloatTensor(batch_size, 100).uniform_(-1, 1).to(device)\n",
    "        \n",
    "            fake_images = G(z)\n",
    "        \n",
    "            D_fake = D(fake_images)\n",
    "            g_loss = real_loss(D_fake)\n",
    "            g_l += g_loss.item()\n",
    "        \n",
    "            g_loss.backward()\n",
    "            optimizer_g.step()\n",
    "        if epoch % print_every == 0:\n",
    "            print(\"Epoch: \" + str(epoch + 1) + \"/\" + str(num_epochs)\n",
    "                  + \"\\td_loss:\" + str(round(d_l / len(dataloader), 4))\n",
    "                  + \"\\tg_loss:\" + str(round(g_l / len(dataloader), 4))\n",
    "                  )"
   ],
   "metadata": {
    "collapsed": false,
    "ExecuteTime": {
     "end_time": "2023-10-28T11:02:11.536257800Z",
     "start_time": "2023-10-28T11:02:11.514050400Z"
    }
   },
   "id": "61f499705434ec0c"
  },
  {
   "cell_type": "code",
   "execution_count": 33,
   "outputs": [
    {
     "name": "stdout",
     "output_type": "stream",
     "text": [
      "Epoch: 1/10\td_loss:0.9597\tg_loss:2.7789\n",
      "Epoch: 2/10\td_loss:0.7108\tg_loss:2.5206\n",
      "Epoch: 3/10\td_loss:0.5557\tg_loss:2.3791\n",
      "Epoch: 4/10\td_loss:0.5555\tg_loss:2.4459\n",
      "Epoch: 5/10\td_loss:0.5592\tg_loss:2.6503\n",
      "Epoch: 6/10\td_loss:0.36\tg_loss:3.1079\n",
      "Epoch: 7/10\td_loss:0.2555\tg_loss:3.6575\n",
      "Epoch: 8/10\td_loss:0.2638\tg_loss:3.8778\n",
      "Epoch: 9/10\td_loss:0.3194\tg_loss:4.6125\n",
      "Epoch: 10/10\td_loss:0.4773\tg_loss:5.1916\n"
     ]
    }
   ],
   "source": [
    "train(graphs_dataloader)"
   ],
   "metadata": {
    "collapsed": false,
    "ExecuteTime": {
     "end_time": "2023-10-28T11:02:16.154432600Z",
     "start_time": "2023-10-28T11:02:11.525741300Z"
    }
   },
   "id": "96e8db031c6df05"
  },
  {
   "cell_type": "code",
   "execution_count": 33,
   "outputs": [],
   "source": [],
   "metadata": {
    "collapsed": false,
    "ExecuteTime": {
     "end_time": "2023-10-28T11:02:16.154432600Z",
     "start_time": "2023-10-28T11:02:16.147105600Z"
    }
   },
   "id": "a3457f616434f14f"
  }
 ],
 "metadata": {
  "kernelspec": {
   "display_name": "Python 3",
   "language": "python",
   "name": "python3"
  },
  "language_info": {
   "codemirror_mode": {
    "name": "ipython",
    "version": 3
   },
   "file_extension": ".py",
   "mimetype": "text/x-python",
   "name": "python",
   "nbconvert_exporter": "python",
   "pygments_lexer": "ipython3",
   "version": "3.11.5"
  }
 },
 "nbformat": 4,
 "nbformat_minor": 5
}
