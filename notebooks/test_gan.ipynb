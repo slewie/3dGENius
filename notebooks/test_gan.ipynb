{
 "cells": [
  {
   "cell_type": "code",
   "execution_count": 1,
   "id": "initial_id",
   "metadata": {
    "collapsed": true,
    "ExecuteTime": {
     "end_time": "2023-10-28T11:18:11.603908400Z",
     "start_time": "2023-10-28T11:18:08.515012500Z"
    }
   },
   "outputs": [],
   "source": [
    "from models.gan_model import *\n",
    "import torch\n",
    "from torch_geometric.utils import to_dense_adj\n",
    "from torch_geometric.datasets import TUDataset\n",
    "from torch.utils.data import TensorDataset, DataLoader"
   ]
  },
  {
   "cell_type": "code",
   "execution_count": 2,
   "outputs": [
    {
     "name": "stdout",
     "output_type": "stream",
     "text": [
      "ENZYMES(600)\n"
     ]
    }
   ],
   "source": [
    "root = './enzymes'\n",
    "name = 'ENZYMES'\n",
    "\n",
    "# The ENZYMES dataset\n",
    "pyg_dataset = TUDataset(root, name)\n",
    "\n",
    "# You will find that there are 600 graphs in this dataset\n",
    "print(pyg_dataset)"
   ],
   "metadata": {
    "collapsed": false,
    "ExecuteTime": {
     "end_time": "2023-10-28T11:18:11.620307300Z",
     "start_time": "2023-10-28T11:18:11.606430400Z"
    }
   },
   "id": "c6fc1ad1d9c309e1"
  },
  {
   "cell_type": "code",
   "execution_count": 3,
   "outputs": [],
   "source": [
    "def fix_size(graph):\n",
    "    input_tensor = to_dense_adj(graph.edge_index)\n",
    "    if input_tensor.shape[1] != 42:\n",
    "        zeros = torch.zeros(1, input_tensor.shape[1], 42 - input_tensor.shape[1])\n",
    "        tensor = torch.cat([input_tensor, zeros], dim=2)\n",
    "\n",
    "        zeros = torch.zeros(1, 42 - input_tensor.shape[1], 42)\n",
    "        tensor = torch.cat([tensor, zeros], dim=1)\n",
    "        return tensor\n",
    "    else:\n",
    "        return input_tensor"
   ],
   "metadata": {
    "collapsed": false,
    "ExecuteTime": {
     "end_time": "2023-10-28T11:18:11.622989Z",
     "start_time": "2023-10-28T11:18:11.616069700Z"
    }
   },
   "id": "2835886ccd9a4df6"
  },
  {
   "cell_type": "code",
   "execution_count": 4,
   "outputs": [],
   "source": [
    "graphs_relevance = [g for g in pyg_dataset if g.num_nodes in [38, 40, 42]]\n",
    "graphs = torch.zeros(71, 1, 42, 42)\n",
    "for i in range(len(graphs_relevance)):\n",
    "    graphs[i] = fix_size(graphs_relevance[i])"
   ],
   "metadata": {
    "collapsed": false,
    "ExecuteTime": {
     "end_time": "2023-10-28T11:18:11.701470700Z",
     "start_time": "2023-10-28T11:18:11.624161800Z"
    }
   },
   "id": "84ab775c1758c170"
  },
  {
   "cell_type": "code",
   "execution_count": 5,
   "outputs": [],
   "source": [
    "batch_size = 8\n",
    "graphs_dataset = TensorDataset(graphs)\n",
    "graphs_dataloader = DataLoader(graphs_dataset, batch_size)"
   ],
   "metadata": {
    "collapsed": false,
    "ExecuteTime": {
     "end_time": "2023-10-28T11:18:11.711936900Z",
     "start_time": "2023-10-28T11:18:11.703573400Z"
    }
   },
   "id": "9792edb2150c4391"
  },
  {
   "cell_type": "code",
   "execution_count": 6,
   "outputs": [],
   "source": [
    "lr = 0.001\n",
    "beta1 = 0.9\n",
    "beta2 = 0.999"
   ],
   "metadata": {
    "collapsed": false,
    "ExecuteTime": {
     "end_time": "2023-10-28T11:18:11.713206100Z",
     "start_time": "2023-10-28T11:18:11.709456300Z"
    }
   },
   "id": "5d44a04fff1023d5"
  },
  {
   "cell_type": "code",
   "execution_count": 7,
   "outputs": [],
   "source": [
    "device = torch.device('cpu')\n",
    "\n",
    "\n",
    "def real_loss(D_out, smooth=False):\n",
    "    batch_size = D_out.size(0)\n",
    "\n",
    "    # label smoothing\n",
    "    if smooth:\n",
    "        labels = torch.FloatTensor(batch_size).uniform_(0.9, 1).to(device)\n",
    "    else:\n",
    "        labels = torch.ones(batch_size)\n",
    "\n",
    "    labels = labels.to(device)\n",
    "    criterion = nn.BCELoss()\n",
    "    # calculate loss\n",
    "    loss = criterion(D_out.squeeze(), labels)\n",
    "    return loss\n",
    "\n",
    "\n",
    "def fake_loss(D_out):\n",
    "    batch_size = D_out.size(0)\n",
    "    labels = torch.FloatTensor(batch_size).uniform_(0, 0.1).to(device)  # fake labels = 0\n",
    "    labels = labels.to(device)\n",
    "    criterion = nn.BCELoss()\n",
    "    # calculate loss\n",
    "    loss = criterion(D_out.squeeze(), labels)\n",
    "    return loss"
   ],
   "metadata": {
    "collapsed": false,
    "ExecuteTime": {
     "end_time": "2023-10-28T11:18:11.724024400Z",
     "start_time": "2023-10-28T11:18:11.716605300Z"
    }
   },
   "id": "ea0917e6f9f29470"
  },
  {
   "cell_type": "code",
   "execution_count": 8,
   "outputs": [],
   "source": [
    "gan = GraphGAN(num_vertex=42)\n",
    "optimizer_g = torch.optim.Adam(gan.generator.parameters(), lr=lr, betas=(beta1, beta2))\n",
    "optimizer_d = torch.optim.Adam(gan.discriminator.parameters(), lr=lr, betas=(beta1, beta2))"
   ],
   "metadata": {
    "collapsed": false,
    "ExecuteTime": {
     "end_time": "2023-10-28T11:18:11.752447100Z",
     "start_time": "2023-10-28T11:18:11.722952400Z"
    }
   },
   "id": "b8f4995a81618e22"
  },
  {
   "cell_type": "code",
   "execution_count": 9,
   "outputs": [],
   "source": [
    "def train(model, dataloader, num_epochs=10, print_every=1):\n",
    "    for epoch in range(num_epochs):\n",
    "        g_l = 0\n",
    "        d_l = 0\n",
    "        for batch in dataloader:\n",
    "            data = batch[0]\n",
    "            image_size = data.size(0)\n",
    "            optimizer_d.zero_grad()\n",
    "\n",
    "            d_loss = model.discriminator_part(data, image_size)\n",
    "            d_l += d_loss.item()\n",
    "            d_loss.backward()\n",
    "            optimizer_d.step()\n",
    "\n",
    "            optimizer_g.zero_grad()\n",
    "\n",
    "            g_loss = model.generator_part(image_size)\n",
    "            g_l += g_loss.item()\n",
    "\n",
    "            g_loss.backward()\n",
    "            optimizer_g.step()\n",
    "        if epoch % print_every == 0:\n",
    "            print(\"Epoch: \" + str(epoch + 1) + \"/\" + str(num_epochs)\n",
    "                  + \"\\td_loss:\" + str(round(d_l / len(dataloader), 4))\n",
    "                  + \"\\tg_loss:\" + str(round(g_l / len(dataloader), 4))\n",
    "                  )"
   ],
   "metadata": {
    "collapsed": false,
    "ExecuteTime": {
     "end_time": "2023-10-28T11:18:11.763818600Z",
     "start_time": "2023-10-28T11:18:11.752447100Z"
    }
   },
   "id": "61f499705434ec0c"
  },
  {
   "cell_type": "code",
   "execution_count": 10,
   "outputs": [
    {
     "name": "stdout",
     "output_type": "stream",
     "text": [
      "Epoch: 1/10\td_loss:0.9814\tg_loss:2.7456\n",
      "Epoch: 2/10\td_loss:0.77\tg_loss:2.4357\n",
      "Epoch: 3/10\td_loss:0.5867\tg_loss:2.3324\n",
      "Epoch: 4/10\td_loss:0.5857\tg_loss:2.2892\n",
      "Epoch: 5/10\td_loss:0.5263\tg_loss:2.6198\n",
      "Epoch: 6/10\td_loss:0.3238\tg_loss:3.2825\n",
      "Epoch: 7/10\td_loss:0.284\tg_loss:3.6134\n",
      "Epoch: 8/10\td_loss:0.2231\tg_loss:3.966\n",
      "Epoch: 9/10\td_loss:0.3093\tg_loss:4.2321\n",
      "Epoch: 10/10\td_loss:0.5934\tg_loss:5.3316\n"
     ]
    }
   ],
   "source": [
    "train(gan, graphs_dataloader)"
   ],
   "metadata": {
    "collapsed": false,
    "ExecuteTime": {
     "end_time": "2023-10-28T11:18:14.937704200Z",
     "start_time": "2023-10-28T11:18:11.764949600Z"
    }
   },
   "id": "96e8db031c6df05"
  },
  {
   "cell_type": "code",
   "execution_count": 10,
   "outputs": [],
   "source": [],
   "metadata": {
    "collapsed": false,
    "ExecuteTime": {
     "end_time": "2023-10-28T11:18:14.939063200Z",
     "start_time": "2023-10-28T11:18:14.932498800Z"
    }
   },
   "id": "a3457f616434f14f"
  }
 ],
 "metadata": {
  "kernelspec": {
   "display_name": "Python 3",
   "language": "python",
   "name": "python3"
  },
  "language_info": {
   "codemirror_mode": {
    "name": "ipython",
    "version": 3
   },
   "file_extension": ".py",
   "mimetype": "text/x-python",
   "name": "python",
   "nbconvert_exporter": "python",
   "pygments_lexer": "ipython3",
   "version": "3.11.5"
  }
 },
 "nbformat": 4,
 "nbformat_minor": 5
}
