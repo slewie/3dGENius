{
 "cells": [
  {
   "cell_type": "code",
   "execution_count": 1,
   "metadata": {
    "ExecuteTime": {
     "end_time": "2023-11-25T07:24:59.736005400Z",
     "start_time": "2023-11-25T07:24:59.714099800Z"
    }
   },
   "outputs": [],
   "source": [
    "import trimesh\n",
    "import networkx\n",
    "import torch\n",
    "import torch.nn as nn\n",
    "import torch.nn.functional as F\n",
    "import numpy as np\n",
    "\n",
    "from tqdm import tqdm\n",
    "from torch.utils.data import Dataset\n",
    "from pathlib import Path"
   ]
  },
  {
   "cell_type": "code",
   "execution_count": 2,
   "metadata": {
    "ExecuteTime": {
     "end_time": "2023-11-25T07:39:03.161225900Z",
     "start_time": "2023-11-25T07:39:03.149541300Z"
    }
   },
   "outputs": [],
   "source": [
    "class STLDataset(Dataset):\n",
    "\n",
    "    def __init__(self, root_path, tensor_size):\n",
    "        self.stl_path = root_path\n",
    "        self.stl_list = sorted(self._get_filenames(self.stl_path))\n",
    "        self.tensor_size = tensor_size\n",
    "\n",
    "    def __getitem__(self, idx):\n",
    "        mesh = trimesh.load_mesh(self.stl_list[idx], force='mesh')\n",
    "        adj = torch.from_numpy(networkx.adjacency_matrix(trimesh.graph.vertex_adjacency_graph(mesh)).toarray())\n",
    "        adj = adj.float()\n",
    "        triangles_num = torch.tensor(mesh.faces.shape[0])\n",
    "        triangle_vertices_coords = self.fix_size_coords(torch.from_numpy(mesh.vertices))\n",
    "        adj = self.fix_size_adj(adj, tensor_size=self.tensor_size)\n",
    "        return adj, triangles_num, triangle_vertices_coords\n",
    "\n",
    "    def __len__(self):\n",
    "        return len(self.stl_list)\n",
    "    \n",
    "    @staticmethod\n",
    "    def _get_filenames(path):\n",
    "        return [f for f in path.iterdir() if f.is_file()]\n",
    "\n",
    "    @staticmethod\n",
    "    def fix_size_adj(input_tensor, tensor_size=42):\n",
    "        if input_tensor.shape[0] < tensor_size:\n",
    "            zeros = torch.zeros(input_tensor.shape[0], tensor_size - input_tensor.shape[0])\n",
    "            tensor = torch.cat([input_tensor, zeros], dim=1)\n",
    "    \n",
    "            zeros = torch.zeros(tensor_size - input_tensor.shape[0], tensor_size)\n",
    "            tensor = torch.cat([tensor, zeros], dim=0)\n",
    "            return tensor\n",
    "        elif input_tensor.shape[0] > tensor_size:\n",
    "            return input_tensor[:tensor_size, :tensor_size]\n",
    "        else:\n",
    "            return input_tensor\n",
    "\n",
    "    @staticmethod\n",
    "    def fix_size_coords(input_tensor, tensor_size=42):\n",
    "        if input_tensor.shape[0] < tensor_size:\n",
    "            zeros = torch.zeros(tensor_size - input_tensor.shape[0], input_tensor.shape[1])\n",
    "            tensor = torch.cat([input_tensor, zeros], dim=0)\n",
    "\n",
    "            return tensor\n",
    "        elif input_tensor.shape[0] > tensor_size:\n",
    "            return input_tensor[:tensor_size]\n",
    "        else:\n",
    "            return input_tensor"
   ]
  },
  {
   "cell_type": "code",
   "execution_count": 3,
   "metadata": {
    "ExecuteTime": {
     "end_time": "2023-11-25T07:39:03.800266200Z",
     "start_time": "2023-11-25T07:39:03.615721900Z"
    },
    "collapsed": false
   },
   "outputs": [],
   "source": [
    "input_dir = \"../data/Thingi10K/models\"\n",
    "ADJACENCY_MATRIX_SIZE = 100\n",
    "\n",
    "dataset = STLDataset(Path(input_dir), tensor_size=ADJACENCY_MATRIX_SIZE)"
   ]
  },
  {
   "cell_type": "code",
   "execution_count": 4,
   "metadata": {
    "ExecuteTime": {
     "end_time": "2023-11-25T07:39:03.966967300Z",
     "start_time": "2023-11-25T07:39:03.945678100Z"
    },
    "collapsed": false
   },
   "outputs": [],
   "source": [
    "batch_size = 8\n",
    "data_loader = torch.utils.data.DataLoader(\n",
    "    dataset, batch_size=batch_size, pin_memory=True\n",
    ")"
   ]
  },
  {
   "cell_type": "markdown",
   "metadata": {},
   "source": [
    "### Initialise model."
   ]
  },
  {
   "cell_type": "code",
   "execution_count": 5,
   "metadata": {},
   "outputs": [
    {
     "name": "stdout",
     "output_type": "stream",
     "text": [
      "cpu\n"
     ]
    }
   ],
   "source": [
    "device = torch.device('cuda' if torch.cuda.is_available() else 'cpu')\n",
    "print(device)"
   ]
  },
  {
   "cell_type": "code",
   "execution_count": 6,
   "metadata": {},
   "outputs": [],
   "source": [
    "# class TriangleNet(nn.Module):\n",
    "#     \"\"\"\n",
    "#     Regression model for predicting number of triangles\n",
    "#     based on the given adjacency matrix.\n",
    "\n",
    "#     adj_size: size of the adjacency matrix.\n",
    "#     \"\"\"\n",
    "\n",
    "#     def __init__(self, adj_size: int = 42):\n",
    "#         super(TriangleNet, self).__init__()\n",
    "\n",
    "#         # TODO: fix too many neurons\n",
    "#         input_neurons = adj_size * adj_size\n",
    "#         hidden_s = input_neurons // 2\n",
    "\n",
    "#         self.layers = nn.Sequential(\n",
    "#             nn.Linear(input_neurons, hidden_s),\n",
    "#             nn.ReLU(),\n",
    "#             nn.Linear(hidden_s, 1)\n",
    "#         )\n",
    "\n",
    "#     def forward(self, x: torch.tensor):\n",
    "#         x = torch.flatten(x, 1) # flatten all dimensions except the batch dimension\n",
    "#         x = self.layers(x)\n",
    "\n",
    "#         # round output\n",
    "#         # x = torch.round(x)\n",
    "#         # x = x.type(torch.long)\n",
    "#         return x.flatten()"
   ]
  },
  {
   "cell_type": "markdown",
   "metadata": {},
   "source": [
    "# Params"
   ]
  },
  {
   "cell_type": "code",
   "execution_count": 7,
   "metadata": {},
   "outputs": [],
   "source": [
    "# EPOCHS = 1\n",
    "# triangle_net = TriangleNet(ADJACENCY_MATRIX_SIZE).to(device)\n",
    "# loss_fn = nn.MSELoss()\n",
    "# optimizer = torch.optim.Adam(triangle_net.parameters(), lr=0.001)\n",
    "# triangle_net"
   ]
  },
  {
   "cell_type": "markdown",
   "metadata": {},
   "source": [
    "### Train loop"
   ]
  },
  {
   "cell_type": "code",
   "execution_count": 8,
   "metadata": {},
   "outputs": [],
   "source": [
    "# def train_one_epoch():\n",
    "#     running_loss = 0.\n",
    "#     last_loss = 0.\n",
    "\n",
    "#     # Here, we use enumerate(training_loader) instead of\n",
    "#     # iter(training_loader) so that we can track the batch\n",
    "#     # index and do some intra-epoch reporting\n",
    "#     for i, (adj, triangles_num, triangles_coords) in enumerate(data_loader):\n",
    "#         # Every data instance is an input + label pair\n",
    "#         triangles_num = triangles_num.type(dtype=torch.float32)\n",
    "\n",
    "#         # Zero your gradients for every batch!\n",
    "#         optimizer.zero_grad()\n",
    "\n",
    "#         # print(adj)\n",
    "#         # Make predictions for this batch\n",
    "#         outputs = triangle_net(adj)\n",
    "\n",
    "#         # Compute the loss and its gradients\n",
    "#         loss = loss_fn(outputs, triangles_num)\n",
    "#         loss.backward()\n",
    "\n",
    "#         # Adjust learning weights\n",
    "#         optimizer.step()\n",
    "\n",
    "#         # Gather data and report\n",
    "#         running_loss += loss.item()\n",
    "#         if i % 1000 == 999:\n",
    "#             last_loss = running_loss / 1000 # loss per batch\n",
    "#             print('  batch {} loss: {}'.format(i + 1, last_loss))\n",
    "#             running_loss = 0.\n",
    "\n",
    "#     return last_loss"
   ]
  },
  {
   "cell_type": "code",
   "execution_count": 9,
   "metadata": {},
   "outputs": [],
   "source": [
    "# best_vloss = 1_000_000.\n",
    "\n",
    "# for epoch in tqdm(range(EPOCHS)):\n",
    "#     print('EPOCH {}:'.format(epoch + 1))\n",
    "\n",
    "#     # Make sure gradient tracking is on, and do a pass over the data\n",
    "#     triangle_net.train(True)\n",
    "#     avg_loss = train_one_epoch()\n",
    "\n",
    "#     print(\"Train loss: \", avg_loss)\n",
    "\n",
    "    # running_vloss = 0.0\n",
    "    # # Set the model to evaluation mode, disabling dropout and using population\n",
    "    # # statistics for batch normalization.\n",
    "    # model.eval()\n",
    "\n",
    "    # # Disable gradient computation and reduce memory consumption.\n",
    "    # with torch.no_grad():\n",
    "    #     for i, vdata in enumerate(validation_loader):\n",
    "    #         vinputs, vlabels = vdata\n",
    "    #         voutputs = model(vinputs)\n",
    "    #         vloss = loss_fn(voutputs, vlabels)\n",
    "    #         running_vloss += vloss\n",
    "\n",
    "    # avg_vloss = running_vloss / (i + 1)\n",
    "    # print('LOSS train {} valid {}'.format(avg_loss, avg_vloss))\n",
    "\n",
    "    # # Track best performance, and save the model's state\n",
    "    # if avg_vloss < best_vloss:\n",
    "    #     best_vloss = avg_vloss\n",
    "    #     model_path = 'triangle_net_{}'.format(epoch)\n",
    "    #     torch.save(triangle_net.state_dict(), model_path)"
   ]
  },
  {
   "cell_type": "markdown",
   "metadata": {},
   "source": [
    "# Create mesh from adj and coordinates"
   ]
  },
  {
   "cell_type": "code",
   "execution_count": 13,
   "metadata": {},
   "outputs": [
    {
     "name": "stdout",
     "output_type": "stream",
     "text": [
      "torch.Size([100, 100])\n",
      "tensor(920)\n"
     ]
    }
   ],
   "source": [
    "# mesh = trimesh.load_mesh(\"../data/Thingi10K/models/0.stl\", force='mesh')\n",
    "# adj_matrix = networkx.adjacency_matrix(trimesh.graph.vertex_adjacency_graph(mesh)).toarray()\n",
    "\n",
    "adj_matrix, triangles_num, triangles_vert_coords = next(iter(data_loader))\n",
    "adj_matrix, triangles_num, triangles_vert_coords = adj_matrix[3], triangles_num[3], triangles_vert_coords[3]\n",
    "\n",
    "# vertices = mesh.vertices\n",
    "# adj = adj.float()\n",
    "# triangles_num = torch.tensor(mesh.faces)\n",
    "print(adj_matrix.shape)\n",
    "print(triangles_num)\n",
    "# print(vertices.shape)"
   ]
  },
  {
   "cell_type": "code",
   "execution_count": 14,
   "metadata": {},
   "outputs": [
    {
     "data": {
      "text/plain": [
       "[[0, 1, 2],\n",
       " [0, 1, 3],\n",
       " [0, 2, 15],\n",
       " [0, 3, 16],\n",
       " [0, 15, 16],\n",
       " [1, 2, 14],\n",
       " [1, 3, 5],\n",
       " [1, 5, 27],\n",
       " [1, 14, 28],\n",
       " [1, 27, 28],\n",
       " [2, 14, 31],\n",
       " [2, 15, 31],\n",
       " [3, 4, 5],\n",
       " [3, 4, 17],\n",
       " [3, 16, 17],\n",
       " [4, 5, 13],\n",
       " [4, 6, 7],\n",
       " [4, 6, 13],\n",
       " [4, 7, 18],\n",
       " [4, 17, 18],\n",
       " [5, 13, 26],\n",
       " [5, 26, 27],\n",
       " [6, 7, 9],\n",
       " [6, 9, 25],\n",
       " [6, 13, 25],\n",
       " [7, 8, 9],\n",
       " [7, 8, 19],\n",
       " [7, 18, 19],\n",
       " [8, 9, 10],\n",
       " [8, 10, 20],\n",
       " [8, 19, 20],\n",
       " [9, 10, 12],\n",
       " [9, 12, 24],\n",
       " [9, 24, 25],\n",
       " [10, 11, 12],\n",
       " [10, 11, 21],\n",
       " [10, 20, 21],\n",
       " [11, 12, 22],\n",
       " [11, 21, 32],\n",
       " [11, 22, 33],\n",
       " [11, 32, 58],\n",
       " [11, 33, 58],\n",
       " [12, 22, 23],\n",
       " [12, 23, 24],\n",
       " [13, 25, 35],\n",
       " [13, 26, 35],\n",
       " [14, 28, 30],\n",
       " [14, 30, 31],\n",
       " [15, 16, 44],\n",
       " [15, 31, 40],\n",
       " [15, 40, 42],\n",
       " [15, 42, 43],\n",
       " [15, 42, 44],\n",
       " [15, 43, 44],\n",
       " [16, 17, 46],\n",
       " [16, 44, 45],\n",
       " [16, 45, 46],\n",
       " [17, 18, 48],\n",
       " [17, 46, 47],\n",
       " [17, 47, 48],\n",
       " [18, 19, 50],\n",
       " [18, 48, 49],\n",
       " [18, 49, 50],\n",
       " [19, 20, 51],\n",
       " [19, 50, 51],\n",
       " [20, 21, 53],\n",
       " [20, 51, 52],\n",
       " [20, 52, 53],\n",
       " [21, 32, 55],\n",
       " [21, 53, 54],\n",
       " [21, 54, 55],\n",
       " [22, 23, 34],\n",
       " [22, 33, 34],\n",
       " [23, 24, 69],\n",
       " [23, 34, 68],\n",
       " [24, 25, 69],\n",
       " [25, 35, 70],\n",
       " [25, 69, 70],\n",
       " [26, 27, 72],\n",
       " [26, 35, 71],\n",
       " [26, 71, 72],\n",
       " [27, 28, 72],\n",
       " [28, 29, 30],\n",
       " [28, 29, 36],\n",
       " [28, 36, 73],\n",
       " [28, 72, 73],\n",
       " [29, 30, 38],\n",
       " [29, 36, 37],\n",
       " [29, 37, 39],\n",
       " [29, 38, 39],\n",
       " [30, 31, 81],\n",
       " [30, 38, 79],\n",
       " [30, 79, 80],\n",
       " [30, 80, 81],\n",
       " [31, 40, 82],\n",
       " [31, 81, 82],\n",
       " [32, 55, 56],\n",
       " [32, 56, 57],\n",
       " [32, 57, 85],\n",
       " [32, 58, 86],\n",
       " [32, 85, 86],\n",
       " [33, 34, 59],\n",
       " [33, 58, 89],\n",
       " [33, 59, 91],\n",
       " [33, 89, 90],\n",
       " [33, 90, 91],\n",
       " [34, 59, 60],\n",
       " [34, 60, 68],\n",
       " [36, 37, 74],\n",
       " [37, 39, 75],\n",
       " [38, 39, 77],\n",
       " [38, 77, 78],\n",
       " [38, 78, 79],\n",
       " [39, 75, 76],\n",
       " [39, 76, 77],\n",
       " [40, 41, 42],\n",
       " [40, 41, 84],\n",
       " [40, 82, 83],\n",
       " [40, 83, 84],\n",
       " [41, 42, 45],\n",
       " [41, 45, 46],\n",
       " [41, 46, 47],\n",
       " [41, 47, 48],\n",
       " [41, 48, 49],\n",
       " [41, 49, 50],\n",
       " [41, 50, 51],\n",
       " [41, 51, 52],\n",
       " [41, 52, 53],\n",
       " [41, 53, 54],\n",
       " [41, 54, 55],\n",
       " [41, 55, 56],\n",
       " [41, 56, 84],\n",
       " [42, 43, 44],\n",
       " [42, 44, 45],\n",
       " [56, 57, 84],\n",
       " [57, 84, 85],\n",
       " [58, 86, 87],\n",
       " [58, 87, 88],\n",
       " [58, 88, 89],\n",
       " [59, 60, 93],\n",
       " [59, 91, 92],\n",
       " [60, 66, 67],\n",
       " [60, 66, 93],\n",
       " [60, 67, 68],\n",
       " [61, 62, 63],\n",
       " [61, 62, 65],\n",
       " [62, 64, 65],\n",
       " [62, 64, 99],\n",
       " [64, 65, 98],\n",
       " [64, 96, 98],\n",
       " [66, 67, 94],\n",
       " [66, 94, 95],\n",
       " [75, 76, 92],\n",
       " [76, 77, 91],\n",
       " [76, 91, 92],\n",
       " [77, 78, 89],\n",
       " [77, 89, 90],\n",
       " [77, 90, 91],\n",
       " [78, 79, 89],\n",
       " [79, 80, 89],\n",
       " [80, 81, 87],\n",
       " [80, 87, 88],\n",
       " [80, 88, 89],\n",
       " [81, 82, 87],\n",
       " [82, 83, 86],\n",
       " [82, 86, 87],\n",
       " [83, 84, 85],\n",
       " [83, 85, 86],\n",
       " [94, 95, 97],\n",
       " [95, 96, 97],\n",
       " [96, 97, 98]]"
      ]
     },
     "execution_count": 14,
     "metadata": {},
     "output_type": "execute_result"
    }
   ],
   "source": [
    "# find all triangles in the adjacency matrix\n",
    "triangles = []\n",
    "for i in range(len(adj_matrix)):\n",
    "   for j in range(i+1, len(adj_matrix)):\n",
    "       if adj_matrix[i, j] == 1:\n",
    "           for k in range(j+1, len(adj_matrix)):\n",
    "               if adj_matrix[j, k] == 1 and adj_matrix[k, i] == 1:\n",
    "                  triangles.append([i, j, k])\n",
    "triangles"
   ]
  },
  {
   "cell_type": "code",
   "execution_count": 15,
   "metadata": {},
   "outputs": [
    {
     "data": {
      "text/plain": [
       "<trimesh.Trimesh(vertices.shape=(0, 3), faces.shape=(171, 3))>"
      ]
     },
     "execution_count": 15,
     "metadata": {},
     "output_type": "execute_result"
    }
   ],
   "source": [
    "import trimesh\n",
    "\n",
    "# create faces\n",
    "faces = np.array(triangles)\n",
    "\n",
    "# create a trimesh\n",
    "mesh = trimesh.Trimesh(vertices=[], faces=faces)\n",
    "mesh"
   ]
  },
  {
   "cell_type": "code",
   "execution_count": null,
   "metadata": {},
   "outputs": [],
   "source": []
  }
 ],
 "metadata": {
  "kernelspec": {
   "display_name": "myenv",
   "language": "python",
   "name": "python3"
  },
  "language_info": {
   "codemirror_mode": {
    "name": "ipython",
    "version": 3
   },
   "file_extension": ".py",
   "mimetype": "text/x-python",
   "name": "python",
   "nbconvert_exporter": "python",
   "pygments_lexer": "ipython3",
   "version": "3.11.2"
  }
 },
 "nbformat": 4,
 "nbformat_minor": 2
}
