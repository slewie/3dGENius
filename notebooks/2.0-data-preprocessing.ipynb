{
 "cells": [
  {
   "cell_type": "code",
   "execution_count": 2,
   "metadata": {
    "ExecuteTime": {
     "end_time": "2023-11-25T07:24:59.736005400Z",
     "start_time": "2023-11-25T07:24:59.714099800Z"
    }
   },
   "outputs": [],
   "source": [
    "import trimesh\n",
    "import networkx\n",
    "from torch.utils.data import Dataset\n",
    "import torch\n",
    "from pathlib import Path"
   ]
  },
  {
   "cell_type": "code",
   "execution_count": 7,
   "metadata": {
    "ExecuteTime": {
     "end_time": "2023-11-25T07:39:03.161225900Z",
     "start_time": "2023-11-25T07:39:03.149541300Z"
    }
   },
   "outputs": [],
   "source": [
    "class STLDataset(Dataset):\n",
    "\n",
    "    def __init__(self, root_path, tensor_size):\n",
    "        self.stl_path = root_path\n",
    "        self.stl_list = sorted(self._get_filenames(self.stl_path))\n",
    "        self.tensor_size = tensor_size\n",
    "\n",
    "    def __getitem__(self, idx):\n",
    "        mesh = trimesh.load_mesh(self.stl_list[idx])\n",
    "        adj = torch.from_numpy(networkx.adjacency_matrix(trimesh.graph.vertex_adjacency_graph(mesh)).toarray())\n",
    "        triangles_num = torch.tensor(mesh.faces.shape[0])\n",
    "        triangle_vertices_coords = self.fix_size_coords(torch.from_numpy(mesh.vertices))\n",
    "        adj = self.fix_size_adj(adj, tensor_size=self.tensor_size)\n",
    "        return adj, triangles_num, triangle_vertices_coords\n",
    "\n",
    "    def __len__(self):\n",
    "        return len(self.stl_list)\n",
    "    \n",
    "    @staticmethod\n",
    "    def _get_filenames(path):\n",
    "        return [f for f in path.iterdir() if f.is_file()]\n",
    "\n",
    "    @staticmethod\n",
    "    def fix_size_adj(input_tensor, tensor_size=42):\n",
    "        if input_tensor.shape[0] < tensor_size:\n",
    "            zeros = torch.zeros(input_tensor.shape[0], tensor_size - input_tensor.shape[0])\n",
    "            tensor = torch.cat([input_tensor, zeros], dim=1)\n",
    "    \n",
    "            zeros = torch.zeros(tensor_size - input_tensor.shape[0], tensor_size)\n",
    "            tensor = torch.cat([tensor, zeros], dim=0)\n",
    "            return tensor\n",
    "        elif input_tensor.shape[0] > tensor_size:\n",
    "            return input_tensor[:tensor_size, :tensor_size]\n",
    "        else:\n",
    "            return input_tensor\n",
    "\n",
    "    @staticmethod\n",
    "    def fix_size_coords(input_tensor, tensor_size=42):\n",
    "        if input_tensor.shape[0] < tensor_size:\n",
    "            zeros = torch.zeros(tensor_size - input_tensor.shape[0], input_tensor.shape[1])\n",
    "            tensor = torch.cat([input_tensor, zeros], dim=0)\n",
    "\n",
    "            return tensor\n",
    "        elif input_tensor.shape[0] > tensor_size:\n",
    "            return input_tensor[:tensor_size]\n",
    "        else:\n",
    "            return input_tensor"
   ]
  },
  {
   "cell_type": "code",
   "execution_count": 8,
   "metadata": {
    "ExecuteTime": {
     "end_time": "2023-11-25T07:39:03.800266200Z",
     "start_time": "2023-11-25T07:39:03.615721900Z"
    },
    "collapsed": false
   },
   "outputs": [],
   "source": [
    "input_dir = \"../data/Thingi10K/models\"\n",
    "dataset = STLDataset(Path(input_dir), tensor_size=750)"
   ]
  },
  {
   "cell_type": "code",
   "execution_count": 9,
   "metadata": {
    "ExecuteTime": {
     "end_time": "2023-11-25T07:39:03.966967300Z",
     "start_time": "2023-11-25T07:39:03.945678100Z"
    },
    "collapsed": false
   },
   "outputs": [],
   "source": [
    "batch_size = 8\n",
    "data_loader = torch.utils.data.DataLoader(\n",
    "    dataset, batch_size=batch_size, pin_memory=True\n",
    ")"
   ]
  },
  {
   "cell_type": "code",
   "execution_count": 10,
   "metadata": {
    "ExecuteTime": {
     "end_time": "2023-11-25T07:39:04.584374400Z",
     "start_time": "2023-11-25T07:39:04.458417700Z"
    },
    "collapsed": false
   },
   "outputs": [],
   "source": [
    "batch = next(iter(data_loader))"
   ]
  },
  {
   "cell_type": "code",
   "execution_count": 16,
   "metadata": {},
   "outputs": [
    {
     "name": "stdout",
     "output_type": "stream",
     "text": [
      "[[ 0.74320864  2.65091561 14.21195256]\n",
      " [-1.2008943   2.82786574 14.21195256]\n",
      " [ 0.74320864  2.65091561 12.33923256]\n",
      " [ 1.23969685 24.1757437  12.33923256]\n",
      " [-1.35483165 23.98082942 12.33923256]\n",
      " [ 1.23969685 24.1757437  14.21195256]\n",
      " [-1.35483165 23.98082942 14.21195256]\n",
      " [-3.79850166 23.18254406 12.33923256]\n",
      " [-3.79850166 23.18254406 14.21195256]\n",
      " [-5.90395909 21.89065524 12.33923256]\n",
      " [-5.90395909 21.89065524 14.21195256]\n",
      " [-7.56142887 20.27367705 12.33923256]\n",
      " [-7.56142887 20.27367705 14.21195256]\n",
      " [-8.67007384 18.64810448 12.33923256]\n",
      " [-8.67007384 18.64810448 14.21195256]\n",
      " [-9.50149604 16.7355093  12.33923256]\n",
      " [-9.50149604 16.7355093  14.21195256]\n",
      " [-9.95865138 14.61196434 12.33923256]\n",
      " [-9.95865138 14.61196434 14.21195256]\n",
      " [-9.97600615 12.39373942 12.33923256]\n",
      " [-9.97600615 12.39373942 14.21195256]\n",
      " [-9.53845737 10.219027   12.33923256]\n",
      " [-9.53845737 10.219027   14.21195256]\n",
      " [-8.68703131  8.2206507  12.33923256]\n",
      " [-8.68703131  8.2206507  14.21195256]\n",
      " [-7.5081146   6.50034881 12.33923256]\n",
      " [-7.5081146   6.50034881 14.21195256]\n",
      " [-6.11141279  5.11441811 12.33923256]\n",
      " [-6.11141279  5.11441811 14.21195256]\n",
      " [-3.03609846  3.33591737 12.33923256]\n",
      " [-3.03609846  3.33591737 14.21195256]\n",
      " [-1.2008943   2.82786574 12.33923256]\n",
      " [11.51135142 24.1757437  14.21195256]\n",
      " [11.51135142  2.65095821 14.21195256]\n",
      " [11.51135142 24.1757437  12.33923256]\n",
      " [11.51135142  2.65095821 12.33923256]\n",
      " [ 0.7734964   2.65095821 12.33923256]\n",
      " [ 0.7734964   2.65095821 14.21195256]\n",
      " [ 1.84554074  4.11966737 14.21195256]\n",
      " [ 3.73103309  4.49902552 14.21195256]\n",
      " [ 0.87932969  4.07756847 14.21195256]\n",
      " [ 0.87932969  2.68259101 14.21195256]\n",
      " [11.40341682  2.68259101 14.21195256]\n",
      " [11.40341682 24.1440683  14.21195256]\n",
      " [ 0.87932969 24.1440683  14.21195256]\n",
      " [ 0.87932969 22.7490492  14.21195256]\n",
      " [ 1.99084476 22.69190358 14.21195256]\n",
      " [ 3.83197453 22.2955464  14.21195256]\n",
      " [ 5.49020922 21.57469697 14.21195256]\n",
      " [ 6.89959311 20.61349327 14.21195256]\n",
      " [ 8.1105443  19.41188072 14.21195256]\n",
      " [ 9.13267412 17.92036578 14.21195256]\n",
      " [ 9.87086705 16.18775819 14.21195256]\n",
      " [10.2502252  14.30226585 14.21195256]\n",
      " [10.23517848 12.37904782 14.21195256]\n",
      " [ 9.8388213  10.53791804 14.21195256]\n",
      " [ 9.11797187  8.87968335 14.21195256]\n",
      " [ 8.15676817  7.47029946 14.21195256]\n",
      " [ 6.95515562  6.25934828 14.21195256]\n",
      " [ 5.46364068  5.23721845 14.21195256]\n",
      " [ 6.89959311 20.61349327 81.05714256]\n",
      " [ 5.49020922 21.57469697 81.05714256]\n",
      " [ 0.87932969 22.7490492  81.05714256]\n",
      " [ 1.99084476 22.69190358 81.05714256]\n",
      " [ 3.83197453 22.2955464  81.05714256]\n",
      " [ 0.87932969 24.1440683  81.05714256]\n",
      " [11.40341682 24.1440683  81.05714256]\n",
      " [11.40341682  2.68259101 81.05714256]\n",
      " [ 0.87932969  2.68259101 81.05714256]\n",
      " [ 0.87932969  4.07756847 81.05714256]\n",
      " [ 9.87086705 16.18775819 81.05714256]\n",
      " [10.2502252  14.30226585 81.05714256]\n",
      " [ 1.84554074  4.11966737 81.05714256]\n",
      " [ 3.73103309  4.49902552 81.05714256]\n",
      " [ 5.46364068  5.23721845 81.05714256]\n",
      " [ 6.95515562  6.25934828 81.05714256]\n",
      " [ 8.15676817  7.47029946 81.05714256]\n",
      " [ 8.1105443  19.41188072 81.05714256]\n",
      " [ 9.13267412 17.92036578 81.05714256]\n",
      " [ 9.11797187  8.87968335 81.05714256]\n",
      " [ 9.8388213  10.53791804 81.05714256]\n",
      " [10.23517848 12.37904782 81.05714256]]\n"
     ]
    }
   ],
   "source": [
    "ma_mesh = trimesh.load_mesh('../data/Thingi10K/models/test.stl')\n",
    "print(ma_mesh.vertices)"
   ]
  },
  {
   "cell_type": "code",
   "execution_count": 14,
   "metadata": {},
   "outputs": [
    {
     "name": "stdout",
     "output_type": "stream",
     "text": [
      "tensor([[[0., 1., 1.,  ..., 0., 0., 0.],\n",
      "         [1., 0., 1.,  ..., 0., 0., 0.],\n",
      "         [1., 1., 0.,  ..., 0., 0., 0.],\n",
      "         ...,\n",
      "         [0., 0., 0.,  ..., 0., 0., 0.],\n",
      "         [0., 0., 0.,  ..., 0., 0., 0.],\n",
      "         [0., 0., 0.,  ..., 0., 0., 0.]]])\n",
      "torch.Size([1, 750, 750])\n",
      "tensor([160])\n",
      "tensor([[[ 0.7432,  2.6509, 14.2120],\n",
      "         [-1.2009,  2.8279, 14.2120],\n",
      "         [ 0.7432,  2.6509, 12.3392],\n",
      "         [ 1.2397, 24.1757, 12.3392],\n",
      "         [-1.3548, 23.9808, 12.3392],\n",
      "         [ 1.2397, 24.1757, 14.2120],\n",
      "         [-1.3548, 23.9808, 14.2120],\n",
      "         [-3.7985, 23.1825, 12.3392],\n",
      "         [-3.7985, 23.1825, 14.2120],\n",
      "         [-5.9040, 21.8907, 12.3392],\n",
      "         [-5.9040, 21.8907, 14.2120],\n",
      "         [-7.5614, 20.2737, 12.3392],\n",
      "         [-7.5614, 20.2737, 14.2120],\n",
      "         [-8.6701, 18.6481, 12.3392],\n",
      "         [-8.6701, 18.6481, 14.2120],\n",
      "         [-9.5015, 16.7355, 12.3392],\n",
      "         [-9.5015, 16.7355, 14.2120],\n",
      "         [-9.9587, 14.6120, 12.3392],\n",
      "         [-9.9587, 14.6120, 14.2120],\n",
      "         [-9.9760, 12.3937, 12.3392],\n",
      "         [-9.9760, 12.3937, 14.2120],\n",
      "         [-9.5385, 10.2190, 12.3392],\n",
      "         [-9.5385, 10.2190, 14.2120],\n",
      "         [-8.6870,  8.2207, 12.3392],\n",
      "         [-8.6870,  8.2207, 14.2120],\n",
      "         [-7.5081,  6.5003, 12.3392],\n",
      "         [-7.5081,  6.5003, 14.2120],\n",
      "         [-6.1114,  5.1144, 12.3392],\n",
      "         [-6.1114,  5.1144, 14.2120],\n",
      "         [-3.0361,  3.3359, 12.3392],\n",
      "         [-3.0361,  3.3359, 14.2120],\n",
      "         [-1.2009,  2.8279, 12.3392],\n",
      "         [11.5114, 24.1757, 14.2120],\n",
      "         [11.5114,  2.6510, 14.2120],\n",
      "         [11.5114, 24.1757, 12.3392],\n",
      "         [11.5114,  2.6510, 12.3392],\n",
      "         [ 0.7735,  2.6510, 12.3392],\n",
      "         [ 0.7735,  2.6510, 14.2120],\n",
      "         [ 1.8455,  4.1197, 14.2120],\n",
      "         [ 3.7310,  4.4990, 14.2120],\n",
      "         [ 0.8793,  4.0776, 14.2120],\n",
      "         [ 0.8793,  2.6826, 14.2120]]], dtype=torch.float64)\n",
      "torch.Size([1, 42, 3])\n"
     ]
    }
   ],
   "source": [
    "adjacency_matrices, triangles_num, coordinates = batch\n",
    "print(adjacency_matrices)\n",
    "print(adjacency_matrices.shape)\n",
    "print(triangles_num)\n",
    "print(coordinates)\n",
    "print(coordinates.shape)"
   ]
  },
  {
   "cell_type": "code",
   "execution_count": null,
   "metadata": {},
   "outputs": [],
   "source": []
  }
 ],
 "metadata": {
  "kernelspec": {
   "display_name": "myenv",
   "language": "python",
   "name": "python3"
  },
  "language_info": {
   "codemirror_mode": {
    "name": "ipython",
    "version": 3
   },
   "file_extension": ".py",
   "mimetype": "text/x-python",
   "name": "python",
   "nbconvert_exporter": "python",
   "pygments_lexer": "ipython3",
   "version": "3.11.2"
  }
 },
 "nbformat": 4,
 "nbformat_minor": 2
}
