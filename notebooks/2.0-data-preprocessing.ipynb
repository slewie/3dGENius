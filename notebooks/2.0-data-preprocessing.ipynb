{
 "cells": [
  {
   "cell_type": "code",
   "execution_count": 7,
   "metadata": {
    "ExecuteTime": {
     "end_time": "2023-11-25T07:24:59.736005400Z",
     "start_time": "2023-11-25T07:24:59.714099800Z"
    }
   },
   "outputs": [],
   "source": [
    "import trimesh\n",
    "import networkx\n",
    "from torch.utils.data import Dataset\n",
    "import torch\n",
    "from pathlib import Path"
   ]
  },
  {
   "cell_type": "code",
   "execution_count": 54,
   "metadata": {
    "ExecuteTime": {
     "end_time": "2023-11-25T07:39:03.161225900Z",
     "start_time": "2023-11-25T07:39:03.149541300Z"
    }
   },
   "outputs": [],
   "source": [
    "class STLDataset(Dataset):\n",
    "\n",
    "    def __init__(self, root_path, tensor_size):\n",
    "        self.stl_path = root_path\n",
    "        self.stl_list = sorted(self._get_filenames(self.stl_path))\n",
    "        self.tensor_size = tensor_size\n",
    "\n",
    "    def __getitem__(self, idx):\n",
    "        mesh = trimesh.load_mesh(self.stl_list[idx])\n",
    "        adj = torch.from_numpy(networkx.adjacency_matrix(trimesh.graph.vertex_adjacency_graph(mesh)).toarray())\n",
    "        facades = torch.tensor(mesh.faces.shape[0])\n",
    "        coords = self.fix_size_coords(torch.from_numpy(mesh.vertices))\n",
    "        adj = self.fix_size_adj(adj, tensor_size=self.tensor_size)\n",
    "        print(adj.shape, facades.shape, coords.shape)\n",
    "        return adj, facades, coords\n",
    "\n",
    "    def __len__(self):\n",
    "        return len(self.stl_list)\n",
    "    \n",
    "    @staticmethod\n",
    "    def _get_filenames(path):\n",
    "        return [f for f in path.iterdir() if f.is_file()]\n",
    "\n",
    "    @staticmethod\n",
    "    def fix_size_adj(input_tensor, tensor_size=42):\n",
    "        if input_tensor.shape[0] < tensor_size:\n",
    "            zeros = torch.zeros(input_tensor.shape[0], tensor_size - input_tensor.shape[0])\n",
    "            tensor = torch.cat([input_tensor, zeros], dim=1)\n",
    "    \n",
    "            zeros = torch.zeros(tensor_size - input_tensor.shape[0], tensor_size)\n",
    "            tensor = torch.cat([tensor, zeros], dim=0)\n",
    "            return tensor\n",
    "        elif input_tensor.shape[0] > tensor_size:\n",
    "            return input_tensor[:tensor_size, :tensor_size]\n",
    "        else:\n",
    "            return input_tensor\n",
    "\n",
    "    @staticmethod\n",
    "    def fix_size_coords(input_tensor, tensor_size=42):\n",
    "        if input_tensor.shape[0] < tensor_size:\n",
    "            zeros = torch.zeros(tensor_size - input_tensor.shape[0], input_tensor.shape[1])\n",
    "            tensor = torch.cat([input_tensor, zeros], dim=0)\n",
    "\n",
    "            return tensor\n",
    "        elif input_tensor.shape[0] > tensor_size:\n",
    "            return input_tensor[:tensor_size]\n",
    "        else:\n",
    "            return input_tensor"
   ]
  },
  {
   "cell_type": "code",
   "execution_count": 55,
   "outputs": [],
   "source": [
    "input_dir = \"../data/Thingi10K/models\"\n",
    "dataset = STLDataset(Path(input_dir), tensor_size=750)"
   ],
   "metadata": {
    "collapsed": false,
    "ExecuteTime": {
     "end_time": "2023-11-25T07:39:03.800266200Z",
     "start_time": "2023-11-25T07:39:03.615721900Z"
    }
   }
  },
  {
   "cell_type": "code",
   "execution_count": 56,
   "outputs": [],
   "source": [
    "batch_size = 8\n",
    "data_loader = torch.utils.data.DataLoader(\n",
    "    dataset, batch_size=batch_size, pin_memory=True\n",
    ")"
   ],
   "metadata": {
    "collapsed": false,
    "ExecuteTime": {
     "end_time": "2023-11-25T07:39:03.966967300Z",
     "start_time": "2023-11-25T07:39:03.945678100Z"
    }
   }
  },
  {
   "cell_type": "code",
   "execution_count": 57,
   "outputs": [
    {
     "name": "stdout",
     "output_type": "stream",
     "text": [
      "torch.Size([500, 500]) torch.Size([]) torch.Size([42, 3])\n",
      "torch.Size([500, 500]) torch.Size([]) torch.Size([42, 3])\n",
      "torch.Size([500, 500]) torch.Size([]) torch.Size([42, 3])\n",
      "torch.Size([500, 500]) torch.Size([]) torch.Size([42, 3])\n",
      "torch.Size([500, 500]) torch.Size([]) torch.Size([42, 3])\n",
      "torch.Size([500, 500]) torch.Size([]) torch.Size([42, 3])\n",
      "torch.Size([500, 500]) torch.Size([]) torch.Size([42, 3])\n",
      "torch.Size([500, 500]) torch.Size([]) torch.Size([42, 3])\n"
     ]
    }
   ],
   "source": [
    "batch = next(iter(data_loader))"
   ],
   "metadata": {
    "collapsed": false,
    "ExecuteTime": {
     "end_time": "2023-11-25T07:39:04.584374400Z",
     "start_time": "2023-11-25T07:39:04.458417700Z"
    }
   }
  }
 ],
 "metadata": {
  "kernelspec": {
   "display_name": "myenv",
   "language": "python",
   "name": "python3"
  },
  "language_info": {
   "codemirror_mode": {
    "name": "ipython",
    "version": 3
   },
   "file_extension": ".py",
   "mimetype": "text/x-python",
   "name": "python",
   "nbconvert_exporter": "python",
   "pygments_lexer": "ipython3",
   "version": "3.11.5"
  }
 },
 "nbformat": 4,
 "nbformat_minor": 2
}
